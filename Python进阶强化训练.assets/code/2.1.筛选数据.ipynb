{
 "cells": [
  {
   "cell_type": "markdown",
   "metadata": {},
   "source": [
    "## 列表筛选\n",
    "\n",
    "列表解析比 filter 快\n",
    "\n",
    "实测 python3 环境相反\n"
   ]
  },
  {
   "cell_type": "code",
   "execution_count": 3,
   "metadata": {},
   "outputs": [
    {
     "name": "stdout",
     "output_type": "stream",
     "text": [
      "[-1, 8, -10, -3, -4, -1, -6, 4, 8, -8]\n",
      "[8, 4, 8]\n",
      "[8, 4, 8]\n",
      "0.33365409999987605\n",
      "0.8486958000003142\n"
     ]
    }
   ],
   "source": [
    "from random import randint\n",
    "import timeit\n",
    "\n",
    "data = [randint(-10, 10) for _ in range(10)]\n",
    "print(data)\n",
    "\n",
    "f = filter(lambda x: x >= 0, data)\n",
    "print(list(f))\n",
    "\n",
    "l = [x for x in data if x >= 0]\n",
    "print(l)\n",
    "\n",
    "\n",
    "t_f = timeit.timeit('filter(lambda x: x >= 0, data)',\n",
    "                    globals=globals())\n",
    "print(t_f)\n",
    "\n",
    "t_l = timeit.timeit('[x for x in data if x >= 0]',\n",
    "                    globals=globals())\n",
    "print(t_l)\n"
   ]
  },
  {
   "cell_type": "markdown",
   "metadata": {},
   "source": [
    "## 字典筛选\n"
   ]
  },
  {
   "cell_type": "code",
   "execution_count": 7,
   "metadata": {},
   "outputs": [
    {
     "name": "stdout",
     "output_type": "stream",
     "text": [
      "{1: 88, 2: 85, 3: 73, 4: 79, 5: 100, 6: 72, 7: 91, 8: 98, 9: 95, 10: 66, 11: 73, 12: 75, 13: 81, 14: 69, 15: 60, 16: 82, 17: 94, 18: 90, 19: 80, 20: 76}\n"
     ]
    },
    {
     "data": {
      "text/plain": [
       "{5: 100, 7: 91, 8: 98, 9: 95, 17: 94}"
      ]
     },
     "execution_count": 7,
     "metadata": {},
     "output_type": "execute_result"
    }
   ],
   "source": [
    "d = {x: randint(60, 100) for x in range(1, 21)}\n",
    "print(d)\n",
    "\n",
    "{k: v for k, v in d.items() if v > 90}\n"
   ]
  },
  {
   "cell_type": "markdown",
   "metadata": {},
   "source": [
    "## 集合筛选\n"
   ]
  },
  {
   "cell_type": "code",
   "execution_count": 10,
   "metadata": {},
   "outputs": [
    {
     "name": "stdout",
     "output_type": "stream",
     "text": [
      "{4, 8, -10, -8, -6, -4, -3, -1}\n"
     ]
    },
    {
     "data": {
      "text/plain": [
       "{-6, -3}"
      ]
     },
     "execution_count": 10,
     "metadata": {},
     "output_type": "execute_result"
    }
   ],
   "source": [
    "s = set(data)\n",
    "print(s)\n",
    "\n",
    "{x for x in s if x % 3 == 0}\n"
   ]
  },
  {
   "cell_type": "markdown",
   "metadata": {},
   "source": [
    "## 如何为元组中的每个元素命名，提高程序可读性？\n",
    "\n",
    "学生信息系统中数据为固定格式：\n",
    "\n",
    "（名字，年龄，性别，邮箱地址，…）\n",
    "\n",
    "学生数量很大为了减小存储开销，对每个学生信息用元组表示：\n",
    "\n",
    "```\n",
    "（'Jim'，16，'male'，'jim8721@gmail.com'）\n",
    "（'LiLei'，17，'male'，'leile@qq.com'）\n",
    "（'Lucy'，16，'Female'，'lucy123@yahoo.com'）\n",
    "```\n",
    "\n",
    "访问时，我们使用引索（index）访问，大量引索降低程序可读性，如何解决这个问题？\n",
    "\n",
    "1. 方案 1：定义类似与其他语言的枚举类型，也就是定义一系列数值常量，解决方案\n",
    "2. 方案 2：使用标准库中 collections.namedtuple 替代内置 tuple\n"
   ]
  },
  {
   "cell_type": "code",
   "execution_count": 11,
   "metadata": {},
   "outputs": [
    {
     "name": "stdout",
     "output_type": "stream",
     "text": [
      "Jim\n"
     ]
    }
   ],
   "source": [
    "NAME, AGE, SEX, EMAIL = range(4)\n",
    "\n",
    "student = ('Jim', 16, 'male', 'jim@gmail.com')\n",
    "\n",
    "print(student[NAME])\n",
    "\n",
    "if student[AGE] >= 19:\n",
    "    pass\n",
    "if student[SEX] == 'male':\n",
    "    pass\n"
   ]
  },
  {
   "cell_type": "code",
   "execution_count": 15,
   "metadata": {},
   "outputs": [
    {
     "name": "stdout",
     "output_type": "stream",
     "text": [
      "Student(name='Jim', age=16, sex='male', email='jim@gmail.com')\n",
      "Jim\n",
      "16\n"
     ]
    },
    {
     "data": {
      "text/plain": [
       "True"
      ]
     },
     "execution_count": 15,
     "metadata": {},
     "output_type": "execute_result"
    }
   ],
   "source": [
    "from collections import namedtuple\n",
    "Student = namedtuple('Student', ['name', 'age', 'sex', 'email'])\n",
    "s = Student('Jim', 16, 'male', 'jim@gmail.com')\n",
    "print(s)\n",
    "\n",
    "print(s.name)\n",
    "print(s.age)\n",
    "\n",
    "isinstance(s, tuple)\n"
   ]
  },
  {
   "cell_type": "markdown",
   "metadata": {},
   "source": [
    "## 如何统计序列中元素的出现频度？\n",
    "\n",
    "1. 某随机序列`[12，5，6，4，6，5，5，7，.]`中，找到出现次数最高的 3 个元素，它们出现次数是多少？\n",
    "2. 对某英文文章的单词，进行词频统计，找到出现次数最高的 10 个单词，它们出现次数是多少？\n"
   ]
  },
  {
   "cell_type": "markdown",
   "metadata": {},
   "source": [
    "### 统计出现次数"
   ]
  },
  {
   "cell_type": "markdown",
   "metadata": {},
   "source": [
    "使用字典去重或计数\n"
   ]
  },
  {
   "cell_type": "code",
   "execution_count": 22,
   "metadata": {},
   "outputs": [
    {
     "name": "stdout",
     "output_type": "stream",
     "text": [
      "[9, 11, 17, 12, 5, 8, 13, 11, 11, 17, 19, 1, 19, 20, 12, 13, 17, 18, 14, 1, 15, 17, 10, 9, 19, 17, 8, 10, 15, 8]\n",
      "{9: 2, 11: 3, 17: 5, 12: 2, 5: 1, 8: 3, 13: 2, 19: 3, 1: 2, 20: 1, 18: 1, 14: 1, 15: 2, 10: 2}\n"
     ]
    }
   ],
   "source": [
    "data = [randint(0, 20) for _ in range(30)]\n",
    "print(data)\n",
    "\n",
    "c = dict.fromkeys(data, 0)\n",
    "\n",
    "for x in data:\n",
    "    c[x] += 1\n",
    "print(c)\n"
   ]
  },
  {
   "cell_type": "markdown",
   "metadata": {},
   "source": [
    "使用`collections.Counter`对象将序列传入 Counter 的构造器，得到 Counter 对象是元素频度的字典`Counter..most_common（）`方法得到频度最高的 n 个元素的列表.\n"
   ]
  },
  {
   "cell_type": "code",
   "execution_count": 26,
   "metadata": {},
   "outputs": [
    {
     "name": "stdout",
     "output_type": "stream",
     "text": [
      "Counter({17: 5, 11: 3, 8: 3, 19: 3, 9: 2, 12: 2, 13: 2, 1: 2, 15: 2, 10: 2, 5: 1, 20: 1, 18: 1, 14: 1})\n",
      "[(17, 5), (11, 3), (8, 3)]\n"
     ]
    }
   ],
   "source": [
    "from collections import Counter\n",
    "\n",
    "c2 = Counter(data)\n",
    "print(c2)\n",
    "print(c2.most_common(3))\n"
   ]
  },
  {
   "cell_type": "markdown",
   "metadata": {},
   "source": [
    "### 词频统计"
   ]
  },
  {
   "cell_type": "code",
   "execution_count": 35,
   "metadata": {},
   "outputs": [
    {
     "name": "stdout",
     "output_type": "stream",
     "text": [
      "[('of', 22), ('and', 21), ('to', 21), ('the', 19), ('we', 16), ('in', 13), ('that', 12), ('alone', 9), ('for', 8), ('is', 7)]\n"
     ]
    }
   ],
   "source": [
    "import re\n",
    "\n",
    "txt = open('Example.txt').read()\n",
    "c3 = Counter(re.split('\\W+', txt))\n",
    "print(c3.most_common(10))\n"
   ]
  },
  {
   "cell_type": "markdown",
   "metadata": {},
   "source": [
    "## 如何根据字典中值的大小，对字典中的项排序\n",
    "\n",
    "某班英语成绩以字典形式存储为：\n",
    "\n",
    "例 `{'LiLei':79，Jim':88，'Lucy':92...}`\n",
    "\n",
    "根据成绩高低，计算学生排名"
   ]
  },
  {
   "cell_type": "markdown",
   "metadata": {},
   "source": [
    "使用内置函数sorted\n",
    "1. 利用zip将字典数据转化元组\n",
    "2. 传递sorted函数的key参数"
   ]
  },
  {
   "cell_type": "code",
   "execution_count": 38,
   "metadata": {},
   "outputs": [
    {
     "name": "stdout",
     "output_type": "stream",
     "text": [
      "[0, 2, 4, 5, 8, 9]\n"
     ]
    },
    {
     "data": {
      "text/plain": [
       "['a', 'b', 'c', 'x', 'y', 'z']"
      ]
     },
     "execution_count": 38,
     "metadata": {},
     "output_type": "execute_result"
    }
   ],
   "source": [
    "print(sorted([2, 9, 0, 5, 4, 8]))\n",
    "\n",
    "d = {x: randint(60, 100) for x in 'xyzabc'}\n",
    "sorted(d)\n"
   ]
  }
 ],
 "metadata": {
  "interpreter": {
   "hash": "b8462015e17e872b1ed1c5fe434b9376ead747c40192f46f8807d616cee721fd"
  },
  "kernelspec": {
   "display_name": "Python 3.10.4 ('study')",
   "language": "python",
   "name": "python3"
  },
  "language_info": {
   "codemirror_mode": {
    "name": "ipython",
    "version": 3
   },
   "file_extension": ".py",
   "mimetype": "text/x-python",
   "name": "python",
   "nbconvert_exporter": "python",
   "pygments_lexer": "ipython3",
   "version": "3.10.4"
  },
  "orig_nbformat": 4
 },
 "nbformat": 4,
 "nbformat_minor": 2
}
