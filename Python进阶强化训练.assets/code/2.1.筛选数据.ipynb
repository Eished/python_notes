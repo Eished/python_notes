{
 "cells": [
  {
   "cell_type": "markdown",
   "metadata": {},
   "source": [
    "## 列表筛选\n",
    "\n",
    "列表解析比 filter 快\n",
    "\n",
    "实测 python3 环境相反\n"
   ]
  },
  {
   "cell_type": "code",
   "execution_count": 2,
   "metadata": {},
   "outputs": [
    {
     "name": "stdout",
     "output_type": "stream",
     "text": [
      "[10, -3, 7, -4, 3, -5, 1, 9, 10, -6]\n",
      "[10, 7, 3, 1, 9, 10]\n",
      "[10, 7, 3, 1, 9, 10]\n",
      "0.181821599995601\n",
      "0.5757154000020819\n"
     ]
    }
   ],
   "source": [
    "from random import randint\n",
    "import timeit\n",
    "\n",
    "data = [randint(-10, 10) for _ in range(10)]\n",
    "print(data)\n",
    "\n",
    "f = filter(lambda x: x >= 0, data)\n",
    "print(list(f))\n",
    "\n",
    "l = [x for x in data if x >= 0]\n",
    "print(l)\n",
    "\n",
    "\n",
    "t_f = timeit.timeit('filter(lambda x: x >= 0, data)',\n",
    "                    globals=globals())\n",
    "print(t_f)\n",
    "\n",
    "t_l = timeit.timeit('[x for x in data if x >= 0]',\n",
    "                    globals=globals())\n",
    "print(t_l)\n"
   ]
  },
  {
   "cell_type": "markdown",
   "metadata": {},
   "source": [
    "## 字典筛选\n"
   ]
  },
  {
   "cell_type": "code",
   "execution_count": 3,
   "metadata": {},
   "outputs": [
    {
     "name": "stdout",
     "output_type": "stream",
     "text": [
      "{1: 68, 2: 85, 3: 65, 4: 89, 5: 90, 6: 80, 7: 69, 8: 60, 9: 72, 10: 94, 11: 62, 12: 89, 13: 70, 14: 77, 15: 87, 16: 95, 17: 84, 18: 69, 19: 83, 20: 65}\n"
     ]
    },
    {
     "data": {
      "text/plain": [
       "{10: 94, 16: 95}"
      ]
     },
     "execution_count": 3,
     "metadata": {},
     "output_type": "execute_result"
    }
   ],
   "source": [
    "d = {x: randint(60, 100) for x in range(1, 21)}\n",
    "print(d)\n",
    "\n",
    "{k: v for k, v in d.items() if v > 90}\n"
   ]
  },
  {
   "cell_type": "markdown",
   "metadata": {},
   "source": [
    "## 集合筛选\n"
   ]
  },
  {
   "cell_type": "code",
   "execution_count": 4,
   "metadata": {},
   "outputs": [
    {
     "name": "stdout",
     "output_type": "stream",
     "text": [
      "{1, 3, 7, 9, 10, -6, -5, -4, -3}\n"
     ]
    },
    {
     "data": {
      "text/plain": [
       "{-6, -3, 3, 9}"
      ]
     },
     "execution_count": 4,
     "metadata": {},
     "output_type": "execute_result"
    }
   ],
   "source": [
    "s = set(data)\n",
    "print(s)\n",
    "\n",
    "{x for x in s if x % 3 == 0}\n"
   ]
  },
  {
   "cell_type": "markdown",
   "metadata": {},
   "source": [
    "## 如何为元组中的每个元素命名，提高程序可读性？\n",
    "\n",
    "学生信息系统中数据为固定格式：\n",
    "\n",
    "（名字，年龄，性别，邮箱地址，…）\n",
    "\n",
    "学生数量很大为了减小存储开销，对每个学生信息用元组表示：\n",
    "\n",
    "```\n",
    "（'Jim'，16，'male'，'jim8721@gmail.com'）\n",
    "（'LiLei'，17，'male'，'leile@qq.com'）\n",
    "（'Lucy'，16，'Female'，'lucy123@yahoo.com'）\n",
    "```\n",
    "\n",
    "访问时，我们使用引索（index）访问，大量引索降低程序可读性，如何解决这个问题？\n",
    "\n",
    "1. 方案 1：定义类似与其他语言的枚举类型，也就是定义一系列数值常量，解决方案\n",
    "2. 方案 2：使用标准库中 collections.namedtuple 替代内置 tuple\n"
   ]
  },
  {
   "cell_type": "code",
   "execution_count": 5,
   "metadata": {},
   "outputs": [
    {
     "name": "stdout",
     "output_type": "stream",
     "text": [
      "Jim\n"
     ]
    }
   ],
   "source": [
    "NAME, AGE, SEX, EMAIL = range(4)\n",
    "\n",
    "student = ('Jim', 16, 'male', 'jim@gmail.com')\n",
    "\n",
    "print(student[NAME])\n",
    "\n",
    "if student[AGE] >= 19:\n",
    "    pass\n",
    "if student[SEX] == 'male':\n",
    "    pass\n"
   ]
  },
  {
   "cell_type": "code",
   "execution_count": 6,
   "metadata": {},
   "outputs": [
    {
     "name": "stdout",
     "output_type": "stream",
     "text": [
      "Student(name='Jim', age=16, sex='male', email='jim@gmail.com')\n",
      "Jim\n",
      "16\n"
     ]
    },
    {
     "data": {
      "text/plain": [
       "True"
      ]
     },
     "execution_count": 6,
     "metadata": {},
     "output_type": "execute_result"
    }
   ],
   "source": [
    "from collections import namedtuple\n",
    "Student = namedtuple('Student', ['name', 'age', 'sex', 'email'])\n",
    "s = Student('Jim', 16, 'male', 'jim@gmail.com')\n",
    "print(s)\n",
    "\n",
    "print(s.name)\n",
    "print(s.age)\n",
    "\n",
    "isinstance(s, tuple)\n"
   ]
  },
  {
   "cell_type": "markdown",
   "metadata": {},
   "source": [
    "## 如何统计序列中元素的出现频度？\n",
    "\n",
    "1. 某随机序列`[12，5，6，4，6，5，5，7，.]`中，找到出现次数最高的 3 个元素，它们出现次数是多少？\n",
    "2. 对某英文文章的单词，进行词频统计，找到出现次数最高的 10 个单词，它们出现次数是多少？\n"
   ]
  },
  {
   "cell_type": "markdown",
   "metadata": {},
   "source": [
    "### 统计出现次数"
   ]
  },
  {
   "cell_type": "markdown",
   "metadata": {},
   "source": [
    "使用字典去重或计数\n"
   ]
  },
  {
   "cell_type": "code",
   "execution_count": 7,
   "metadata": {},
   "outputs": [
    {
     "name": "stdout",
     "output_type": "stream",
     "text": [
      "[6, 7, 9, 2, 17, 3, 6, 18, 14, 2, 5, 12, 15, 0, 4, 11, 14, 5, 13, 11, 0, 8, 4, 10, 18, 11, 4, 18, 18, 3]\n",
      "{6: 2, 7: 1, 9: 1, 2: 2, 17: 1, 3: 2, 18: 4, 14: 2, 5: 2, 12: 1, 15: 1, 0: 2, 4: 3, 11: 3, 13: 1, 8: 1, 10: 1}\n"
     ]
    }
   ],
   "source": [
    "data = [randint(0, 20) for _ in range(30)]\n",
    "print(data)\n",
    "\n",
    "c = dict.fromkeys(data, 0)\n",
    "\n",
    "for x in data:\n",
    "    c[x] += 1\n",
    "print(c)\n"
   ]
  },
  {
   "cell_type": "markdown",
   "metadata": {},
   "source": [
    "使用`collections.Counter`对象将序列传入 Counter 的构造器，得到 Counter 对象是元素频度的字典`Counter..most_common（）`方法得到频度最高的 n 个元素的列表.\n"
   ]
  },
  {
   "cell_type": "code",
   "execution_count": 8,
   "metadata": {},
   "outputs": [
    {
     "name": "stdout",
     "output_type": "stream",
     "text": [
      "Counter({18: 4, 4: 3, 11: 3, 6: 2, 2: 2, 3: 2, 14: 2, 5: 2, 0: 2, 7: 1, 9: 1, 17: 1, 12: 1, 15: 1, 13: 1, 8: 1, 10: 1})\n",
      "[(18, 4), (4, 3), (11, 3)]\n"
     ]
    }
   ],
   "source": [
    "from collections import Counter\n",
    "\n",
    "c2 = Counter(data)\n",
    "print(c2)\n",
    "print(c2.most_common(3))\n"
   ]
  },
  {
   "cell_type": "markdown",
   "metadata": {},
   "source": [
    "### 词频统计"
   ]
  },
  {
   "cell_type": "code",
   "execution_count": 9,
   "metadata": {},
   "outputs": [
    {
     "name": "stdout",
     "output_type": "stream",
     "text": [
      "[('of', 22), ('and', 21), ('to', 21), ('the', 19), ('we', 16), ('in', 13), ('that', 12), ('alone', 9), ('for', 8), ('is', 7)]\n"
     ]
    }
   ],
   "source": [
    "import re\n",
    "\n",
    "txt = open('Example.txt').read()\n",
    "c3 = Counter(re.split('\\W+', txt))\n",
    "print(c3.most_common(10))\n"
   ]
  },
  {
   "cell_type": "markdown",
   "metadata": {},
   "source": [
    "## 如何根据字典中值的大小，对字典中的项排序\n",
    "\n",
    "某班英语成绩以字典形式存储为：\n",
    "\n",
    "例 `{'LiLei':79，Jim':88，'Lucy':92...}`\n",
    "\n",
    "根据成绩高低，计算学生排名"
   ]
  },
  {
   "cell_type": "markdown",
   "metadata": {},
   "source": [
    "使用内置函数sorted\n",
    "1. 利用zip将字典数据转化元组\n",
    "2. 传递sorted函数的key参数"
   ]
  },
  {
   "cell_type": "code",
   "execution_count": 10,
   "metadata": {},
   "outputs": [
    {
     "name": "stdout",
     "output_type": "stream",
     "text": [
      "[0, 2, 4, 5, 8, 9]\n"
     ]
    },
    {
     "data": {
      "text/plain": [
       "['a', 'b', 'c', 'x', 'y', 'z']"
      ]
     },
     "execution_count": 10,
     "metadata": {},
     "output_type": "execute_result"
    }
   ],
   "source": [
    "print(sorted([2, 9, 0, 5, 4, 8]))\n",
    "\n",
    "d = {x: randint(60, 100) for x in 'xyzabc'}\n",
    "sorted(d)\n"
   ]
  },
  {
   "cell_type": "code",
   "execution_count": 14,
   "metadata": {},
   "outputs": [
    {
     "name": "stdout",
     "output_type": "stream",
     "text": [
      "[(61, 'b'), (66, 'c'), (67, 'y'), (77, 'z'), (83, 'x'), (98, 'a')]\n"
     ]
    },
    {
     "data": {
      "text/plain": [
       "[('b', 61), ('c', 66), ('y', 67), ('z', 77), ('x', 83), ('a', 98)]"
      ]
     },
     "execution_count": 14,
     "metadata": {},
     "output_type": "execute_result"
    }
   ],
   "source": [
    "# itervalues() python2 迭代版本 iter()\n",
    "# z = zip(d.values(), d.keys())\n",
    "z = zip(iter(d.values()), iter(d.keys()))\n",
    "# print(list(z))\n",
    "\n",
    "s_z = sorted(z)\n",
    "print(s_z)\n",
    "\n",
    "sorted(d.items(), key=lambda x: x[1])\n"
   ]
  }
 ],
 "metadata": {
  "interpreter": {
   "hash": "b8462015e17e872b1ed1c5fe434b9376ead747c40192f46f8807d616cee721fd"
  },
  "kernelspec": {
   "display_name": "Python 3.10.4 ('study')",
   "language": "python",
   "name": "python3"
  },
  "language_info": {
   "codemirror_mode": {
    "name": "ipython",
    "version": 3
   },
   "file_extension": ".py",
   "mimetype": "text/x-python",
   "name": "python",
   "nbconvert_exporter": "python",
   "pygments_lexer": "ipython3",
   "version": "3.10.4"
  },
  "orig_nbformat": 4
 },
 "nbformat": 4,
 "nbformat_minor": 2
}
