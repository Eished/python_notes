{
 "cells": [
  {
   "cell_type": "markdown",
   "metadata": {},
   "source": [
    "## 列表筛选\n",
    "\n",
    "列表解析比 filter 快\n",
    "\n",
    "实测 python3 环境相反\n"
   ]
  },
  {
   "cell_type": "code",
   "execution_count": 22,
   "metadata": {},
   "outputs": [
    {
     "name": "stdout",
     "output_type": "stream",
     "text": [
      "[-7, 3, 9, -2, 0, 3, -4, -1, 0, 8]\n",
      "[3, 9, 0, 3, 0, 8]\n",
      "[3, 9, 0, 3, 0, 8]\n",
      "0.19076950001181103\n",
      "0.5254382999846712\n"
     ]
    }
   ],
   "source": [
    "from random import randint\n",
    "import timeit\n",
    "\n",
    "data = [randint(-10, 10) for _ in range(10)]\n",
    "print(data)\n",
    "\n",
    "f = filter(lambda x: x >= 0, data)\n",
    "print(list(f))\n",
    "\n",
    "l = [x for x in data if x >= 0]\n",
    "print(l)\n",
    "\n",
    "\n",
    "t_f = timeit.timeit('filter(lambda x: x >= 0, data)',\n",
    "                    globals=globals())\n",
    "print(t_f)\n",
    "\n",
    "t_l = timeit.timeit('[x for x in data if x >= 0]',\n",
    "                    globals=globals())\n",
    "print(t_l)\n"
   ]
  },
  {
   "cell_type": "markdown",
   "metadata": {},
   "source": [
    "## 字典筛选\n"
   ]
  },
  {
   "cell_type": "code",
   "execution_count": 23,
   "metadata": {},
   "outputs": [
    {
     "name": "stdout",
     "output_type": "stream",
     "text": [
      "{1: 94, 2: 82, 3: 97, 4: 62, 5: 60, 6: 64, 7: 61, 8: 91, 9: 65, 10: 78, 11: 86, 12: 79, 13: 82, 14: 72, 15: 60, 16: 67, 17: 69, 18: 80, 19: 95, 20: 98}\n"
     ]
    },
    {
     "data": {
      "text/plain": [
       "{1: 94, 3: 97, 8: 91, 19: 95, 20: 98}"
      ]
     },
     "execution_count": 23,
     "metadata": {},
     "output_type": "execute_result"
    }
   ],
   "source": [
    "d = {x: randint(60, 100) for x in range(1, 21)}\n",
    "print(d)\n",
    "\n",
    "{k: v for k, v in d.items() if v > 90}\n"
   ]
  },
  {
   "cell_type": "markdown",
   "metadata": {},
   "source": [
    "## 集合筛选\n"
   ]
  },
  {
   "cell_type": "code",
   "execution_count": 24,
   "metadata": {},
   "outputs": [
    {
     "name": "stdout",
     "output_type": "stream",
     "text": [
      "{0, 3, 8, 9, -1, -7, -4, -2}\n"
     ]
    },
    {
     "data": {
      "text/plain": [
       "{0, 3, 9}"
      ]
     },
     "execution_count": 24,
     "metadata": {},
     "output_type": "execute_result"
    }
   ],
   "source": [
    "s = set(data)\n",
    "print(s)\n",
    "\n",
    "{x for x in s if x % 3 == 0}\n"
   ]
  },
  {
   "cell_type": "markdown",
   "metadata": {},
   "source": [
    "## 如何为元组中的每个元素命名，提高程序可读性？\n",
    "\n",
    "学生信息系统中数据为固定格式：\n",
    "\n",
    "（名字，年龄，性别，邮箱地址，…）\n",
    "\n",
    "学生数量很大为了减小存储开销，对每个学生信息用元组表示：\n",
    "\n",
    "```\n",
    "（'Jim'，16，'male'，'jim8721@gmail.com'）\n",
    "（'LiLei'，17，'male'，'leile@qq.com'）\n",
    "（'Lucy'，16，'Female'，'lucy123@yahoo.com'）\n",
    "```\n",
    "\n",
    "访问时，我们使用引索（index）访问，大量引索降低程序可读性，如何解决这个问题？\n",
    "\n",
    "1. 方案 1：定义类似与其他语言的枚举类型，也就是定义一系列数值常量，解决方案\n",
    "2. 方案 2：使用标准库中 collections.namedtuple 替代内置 tuple\n"
   ]
  },
  {
   "cell_type": "code",
   "execution_count": 25,
   "metadata": {},
   "outputs": [
    {
     "name": "stdout",
     "output_type": "stream",
     "text": [
      "Jim\n"
     ]
    }
   ],
   "source": [
    "NAME, AGE, SEX, EMAIL = range(4)\n",
    "\n",
    "student = ('Jim', 16, 'male', 'jim@gmail.com')\n",
    "\n",
    "print(student[NAME])\n",
    "\n",
    "if student[AGE] >= 19:\n",
    "    pass\n",
    "if student[SEX] == 'male':\n",
    "    pass\n"
   ]
  },
  {
   "cell_type": "code",
   "execution_count": 26,
   "metadata": {},
   "outputs": [
    {
     "name": "stdout",
     "output_type": "stream",
     "text": [
      "Student(name='Jim', age=16, sex='male', email='jim@gmail.com')\n",
      "Jim\n",
      "16\n"
     ]
    },
    {
     "data": {
      "text/plain": [
       "True"
      ]
     },
     "execution_count": 26,
     "metadata": {},
     "output_type": "execute_result"
    }
   ],
   "source": [
    "from collections import namedtuple\n",
    "Student = namedtuple('Student', ['name', 'age', 'sex', 'email'])\n",
    "s = Student('Jim', 16, 'male', 'jim@gmail.com')\n",
    "print(s)\n",
    "\n",
    "print(s.name)\n",
    "print(s.age)\n",
    "\n",
    "isinstance(s, tuple)\n"
   ]
  },
  {
   "cell_type": "markdown",
   "metadata": {},
   "source": [
    "## 如何统计序列中元素的出现频度？\n",
    "\n",
    "1. 某随机序列`[12，5，6，4，6，5，5，7，.]`中，找到出现次数最高的 3 个元素，它们出现次数是多少？\n",
    "2. 对某英文文章的单词，进行词频统计，找到出现次数最高的 10 个单词，它们出现次数是多少？\n"
   ]
  },
  {
   "cell_type": "markdown",
   "metadata": {},
   "source": [
    "### 统计出现次数\n"
   ]
  },
  {
   "cell_type": "markdown",
   "metadata": {},
   "source": [
    "使用字典去重或计数\n"
   ]
  },
  {
   "cell_type": "code",
   "execution_count": 27,
   "metadata": {},
   "outputs": [
    {
     "name": "stdout",
     "output_type": "stream",
     "text": [
      "[8, 10, 0, 2, 11, 4, 11, 18, 10, 10, 3, 19, 20, 7, 1, 18, 9, 11, 6, 6, 0, 10, 5, 11, 17, 0, 0, 6, 12, 7]\n",
      "{8: 1, 10: 4, 0: 4, 2: 1, 11: 4, 4: 1, 18: 2, 3: 1, 19: 1, 20: 1, 7: 2, 1: 1, 9: 1, 6: 3, 5: 1, 17: 1, 12: 1}\n"
     ]
    }
   ],
   "source": [
    "data = [randint(0, 20) for _ in range(30)]\n",
    "print(data)\n",
    "\n",
    "c = dict.fromkeys(data, 0)\n",
    "\n",
    "for x in data:\n",
    "    c[x] += 1\n",
    "print(c)\n"
   ]
  },
  {
   "cell_type": "markdown",
   "metadata": {},
   "source": [
    "使用`collections.Counter`对象将序列传入 Counter 的构造器，得到 Counter 对象是元素频度的字典`Counter..most_common（）`方法得到频度最高的 n 个元素的列表.\n"
   ]
  },
  {
   "cell_type": "code",
   "execution_count": 28,
   "metadata": {},
   "outputs": [
    {
     "name": "stdout",
     "output_type": "stream",
     "text": [
      "Counter({10: 4, 0: 4, 11: 4, 6: 3, 18: 2, 7: 2, 8: 1, 2: 1, 4: 1, 3: 1, 19: 1, 20: 1, 1: 1, 9: 1, 5: 1, 17: 1, 12: 1})\n",
      "[(10, 4), (0, 4), (11, 4)]\n"
     ]
    }
   ],
   "source": [
    "from collections import Counter\n",
    "\n",
    "c2 = Counter(data)\n",
    "print(c2)\n",
    "print(c2.most_common(3))\n"
   ]
  },
  {
   "cell_type": "markdown",
   "metadata": {},
   "source": [
    "### 词频统计\n"
   ]
  },
  {
   "cell_type": "code",
   "execution_count": 29,
   "metadata": {},
   "outputs": [
    {
     "name": "stdout",
     "output_type": "stream",
     "text": [
      "[('of', 22), ('and', 21), ('to', 21), ('the', 19), ('we', 16), ('in', 13), ('that', 12), ('alone', 9), ('for', 8), ('is', 7)]\n"
     ]
    }
   ],
   "source": [
    "import re\n",
    "\n",
    "txt = open('Example.txt').read()\n",
    "c3 = Counter(re.split('\\W+', txt))\n",
    "print(c3.most_common(10))\n"
   ]
  },
  {
   "cell_type": "markdown",
   "metadata": {},
   "source": [
    "## 如何根据字典中值的大小，对字典中的项排序\n",
    "\n",
    "某班英语成绩以字典形式存储为：\n",
    "\n",
    "例 `{'LiLei':79，Jim':88，'Lucy':92...}`\n",
    "\n",
    "根据成绩高低，计算学生排名\n"
   ]
  },
  {
   "cell_type": "markdown",
   "metadata": {},
   "source": [
    "使用内置函数 sorted\n",
    "\n",
    "1. 利用 zip 将字典数据转化元组\n",
    "2. 传递 sorted 函数的 key 参数\n"
   ]
  },
  {
   "cell_type": "code",
   "execution_count": 30,
   "metadata": {},
   "outputs": [
    {
     "name": "stdout",
     "output_type": "stream",
     "text": [
      "[0, 2, 4, 5, 8, 9]\n"
     ]
    },
    {
     "data": {
      "text/plain": [
       "['a', 'b', 'c', 'x', 'y', 'z']"
      ]
     },
     "execution_count": 30,
     "metadata": {},
     "output_type": "execute_result"
    }
   ],
   "source": [
    "print(sorted([2, 9, 0, 5, 4, 8]))\n",
    "\n",
    "d = {x: randint(60, 100) for x in 'xyzabc'}\n",
    "sorted(d)\n"
   ]
  },
  {
   "cell_type": "code",
   "execution_count": 31,
   "metadata": {},
   "outputs": [
    {
     "name": "stdout",
     "output_type": "stream",
     "text": [
      "[(66, 'a'), (67, 'x'), (71, 'z'), (84, 'y'), (85, 'b'), (88, 'c')]\n"
     ]
    },
    {
     "data": {
      "text/plain": [
       "[('a', 66), ('x', 67), ('z', 71), ('y', 84), ('b', 85), ('c', 88)]"
      ]
     },
     "execution_count": 31,
     "metadata": {},
     "output_type": "execute_result"
    }
   ],
   "source": [
    "# itervalues() python2 迭代版本 iter()\n",
    "# z = zip(d.values(), d.keys())\n",
    "z = zip(iter(d.values()), iter(d.keys()))\n",
    "# print(list(z))\n",
    "\n",
    "s_z = sorted(z)\n",
    "print(s_z)\n",
    "\n",
    "sorted(d.items(), key=lambda x: x[1])\n"
   ]
  },
  {
   "cell_type": "markdown",
   "metadata": {},
   "source": [
    "## 如何快速找到多个字典中的公共键（key）？\n"
   ]
  },
  {
   "cell_type": "markdown",
   "metadata": {},
   "source": [
    "西班牙足球甲级联赛，每轮球员进球统计：\n",
    "\n",
    "1. 第一轮：苏亚雷斯'：1，'梅西'：2，本泽马'：1，'C 罗：3...\n",
    "2. 第二轮：'苏亚雷斯：2，'C 罗：1，'格里兹曼'：2，'贝尔'：1...\n",
    "3. 第三轮：'苏亚雷斯'：1，'托雷斯：2，'贝尔：1，'内马尔：1...\n",
    "\n",
    "统计出前 N 轮，每场比赛都有进球的球员.\n"
   ]
  },
  {
   "cell_type": "code",
   "execution_count": 40,
   "metadata": {},
   "outputs": [
    {
     "name": "stdout",
     "output_type": "stream",
     "text": [
      "{'g': 3, 'e': 2, 'c': 4, 'b': 1}\n",
      "{'f': 2, 'g': 1, 'a': 3, 'c': 1, 'b': 1, 'e': 2}\n",
      "{'a': 3, 'f': 4, 'e': 1, 'b': 2, 'c': 4}\n",
      "['e', 'c', 'b']\n"
     ]
    }
   ],
   "source": [
    "from random import randint, sample\n",
    "\n",
    "\n",
    "def b():\n",
    "    return sample('abcdefg', randint(3, 6))\n",
    "\n",
    "\n",
    "s1 = {x: randint(1, 4) for x in b()}\n",
    "s2 = {x: randint(1, 4) for x in b()}\n",
    "s3 = {x: randint(1, 4) for x in b()}\n",
    "\n",
    "print(s1)\n",
    "print(s2)\n",
    "print(s3)\n",
    "\n",
    "res = []\n",
    "for k in s1:\n",
    "    if k in s2 and k in s3:\n",
    "        res.append(k)\n",
    "\n",
    "print(res)\n"
   ]
  },
  {
   "cell_type": "markdown",
   "metadata": {},
   "source": [
    "### 利用集合（set）的交集操作\n",
    "\n",
    "1. 使用字典的 viewkeys() 方法，得到一个字典 keys 的集合\n",
    "2. 使用 map 函数，得到所有字典的 keys 的集合.\n",
    "3. 使用 reduce 函数，取所有字典的 keys 的集合的交集，\n"
   ]
  },
  {
   "cell_type": "code",
   "execution_count": 50,
   "metadata": {},
   "outputs": [
    {
     "data": {
      "text/plain": [
       "{'b', 'c', 'e'}"
      ]
     },
     "execution_count": 50,
     "metadata": {},
     "output_type": "execute_result"
    }
   ],
   "source": [
    "\n",
    "s1.keys() & s2.keys() & s3.keys()\n"
   ]
  },
  {
   "cell_type": "code",
   "execution_count": 55,
   "metadata": {},
   "outputs": [
    {
     "data": {
      "text/plain": [
       "{'b', 'c', 'e'}"
      ]
     },
     "execution_count": 55,
     "metadata": {},
     "output_type": "execute_result"
    }
   ],
   "source": [
    "from functools import reduce\n",
    "\n",
    "reduce(lambda a, b: a & b, map(dict.keys, [s1, s2, s3]))\n"
   ]
  },
  {
   "cell_type": "markdown",
   "metadata": {},
   "source": [
    "## 如何让字典保持有序\n"
   ]
  },
  {
   "cell_type": "markdown",
   "metadata": {},
   "source": [
    "某编程竞赛系统，对参赛选手编程解题进行计时，选手完成题目后，把该选手解题用时记录到字典中，以便赛后按选手名查询成绩\n",
    "\n",
    "（答题用时越短，成绩越优）\n",
    "\n",
    "`'LiLei': (2, 43), 'HanMeimei': (5, 52)，'Jim': (1, 39)}`\n",
    "\n",
    "比赛结束后，需按排名顺序依次打印选手成绩，如何实现？\n"
   ]
  },
  {
   "cell_type": "code",
   "execution_count": 59,
   "metadata": {},
   "outputs": [
    {
     "name": "stdout",
     "output_type": "stream",
     "text": [
      "Jim\n",
      "Leo\n",
      "Bob\n"
     ]
    }
   ],
   "source": [
    "d = {}\n",
    "\n",
    "d['Jim'] = (1, 35)\n",
    "d['Leo'] = (2, 45)\n",
    "d['Bob'] = (3, 55)\n",
    "\n",
    "# 不保证有序\n",
    "for k in d:\n",
    "    print(k)\n"
   ]
  },
  {
   "cell_type": "markdown",
   "metadata": {},
   "source": [
    "OrderedDict\n"
   ]
  },
  {
   "cell_type": "code",
   "execution_count": 60,
   "metadata": {},
   "outputs": [
    {
     "name": "stdout",
     "output_type": "stream",
     "text": [
      "Jim\n",
      "Leo\n",
      "Bob\n"
     ]
    }
   ],
   "source": [
    "from collections import OrderedDict\n",
    "\n",
    "d = OrderedDict()\n",
    "\n",
    "d['Jim'] = (1, 35)\n",
    "d['Leo'] = (2, 45)\n",
    "d['Bob'] = (3, 55)\n",
    "\n",
    "# 保证有序\n",
    "for k in d:\n",
    "    print(k)\n"
   ]
  },
  {
   "cell_type": "code",
   "execution_count": 70,
   "metadata": {},
   "outputs": [
    {
     "name": "stdout",
     "output_type": "stream",
     "text": [
      "1 h 0.5872325897216797\n",
      "2 f 0.7695631980895996\n",
      "3 c 0.9424331188201904\n",
      "4 g 1.1044273376464844\n",
      "5 d 1.2745656967163086\n",
      "6 e 1.4715619087219238\n",
      "7 a 1.6589367389678955\n",
      "8 b 1.842533826828003\n",
      "\n",
      "h (1, 0.5872325897216797)\n",
      "f (2, 0.7695631980895996)\n",
      "c (3, 0.9424331188201904)\n",
      "g (4, 1.1044273376464844)\n",
      "d (5, 1.2745656967163086)\n",
      "e (6, 1.4715619087219238)\n",
      "a (7, 1.6589367389678955)\n",
      "b (8, 1.842533826828003)\n"
     ]
    }
   ],
   "source": [
    "from time import time\n",
    "from random import randint\n",
    "from collections import OrderedDict\n",
    "\n",
    "d = OrderedDict()\n",
    "\n",
    "players = list('abcdefgh')\n",
    "start = time()\n",
    "\n",
    "for i in range(8):\n",
    "    input()\n",
    "    p = players.pop(randint(0, 7 - i))\n",
    "    end = time()\n",
    "    print(i + 1, p, end - start)\n",
    "    d[p] = (i + 1, end - start)\n",
    "\n",
    "print()\n",
    "\n",
    "for k in d:\n",
    "    print(k, d[k])\n"
   ]
  },
  {
   "cell_type": "markdown",
   "metadata": {},
   "source": [
    "## 如何实现用户的历史记录功能（最多 n 条）？\n",
    "\n",
    "很多应用程序都有浏览用户的历史记录的功能，例如：\n",
    "\n",
    "浏览器可以查看最近访问过的网页」\n",
    "\n",
    "视频播放器可以查看最近播放过视频文件，Shelli 可以查看用户输入过的命令.\n",
    "\n",
    "现在我们制作了一个简单的猜数字的小游戏，添加历史记录功能，显示用户最近猜过的数字如何实现？\n"
   ]
  },
  {
   "cell_type": "code",
   "execution_count": 75,
   "metadata": {},
   "outputs": [
    {
     "name": "stdout",
     "output_type": "stream",
     "text": [
      "1 is less-than N\n",
      "2 is less-than N\n",
      "4 is less-than N\n",
      "99 is greater-than N\n",
      "56 is less-than N\n",
      "34 is less-than N\n",
      "88 is greater-than N\n",
      "67 is less-than N\n",
      "66 is less-than N\n",
      "77 is less-than N\n",
      "78 is less-than N\n",
      "80 is less-than N\n",
      "81 is less-than N\n",
      "85 is less-than N\n"
     ]
    }
   ],
   "source": [
    "from random import randint\n",
    "\n",
    "N = randint(0, 100)\n",
    "\n",
    "\n",
    "def guess(k):\n",
    "    if k == N:\n",
    "        print('right')\n",
    "        return True\n",
    "    if k < N:\n",
    "        print('%s is less-than N' % k)\n",
    "    else:\n",
    "        print('%s is greater-than N' % k)\n",
    "    return False\n",
    "\n",
    "\n",
    "while True:\n",
    "    line = input(\"please input a number:\")\n",
    "    if line.isdigit():\n",
    "        k = int(line)\n",
    "        if guess(k):\n",
    "            break\n",
    "    else:\n",
    "        break\n"
   ]
  },
  {
   "cell_type": "markdown",
   "metadata": {},
   "source": [
    "使用容量为 n 的队列存储历史记录\n",
    "\n",
    "使用标准库 collections 中的 deque，它是一个双端循环队列.\n",
    "\n",
    "程序退出前，可以使用 pickle 将队列对象存入文件，再次运行程序时将其导入，\n"
   ]
  },
  {
   "cell_type": "code",
   "execution_count": 76,
   "metadata": {},
   "outputs": [
    {
     "name": "stdout",
     "output_type": "stream",
     "text": [
      "deque([1, 2, 3, 4, 5], maxlen=5)\n",
      "deque([3, 4, 5, 6, 7], maxlen=5)\n"
     ]
    }
   ],
   "source": [
    "from collections import deque\n",
    "q = deque([], 5)\n",
    "q.append(1)\n",
    "q.append(2)\n",
    "q.append(3)\n",
    "q.append(4)\n",
    "q.append(5)\n",
    "print(q)\n",
    "q.append(6)\n",
    "q.append(7)\n",
    "print(q)\n"
   ]
  },
  {
   "cell_type": "code",
   "execution_count": 80,
   "metadata": {},
   "outputs": [
    {
     "name": "stdout",
     "output_type": "stream",
     "text": [
      "1 is less-than N\n",
      "2 is less-than N\n",
      "3 is less-than N\n",
      "4 is less-than N\n",
      "5 is less-than N\n",
      "[1, 2, 3, 4, 5]\n",
      "90 is greater-than N\n",
      "80 is less-than N\n",
      "70 is less-than N\n",
      "60 is less-than N\n",
      "[5, 90, 80, 70, 60]\n"
     ]
    }
   ],
   "source": [
    "from random import randint\n",
    "from collections import deque\n",
    "\n",
    "N = randint(0, 100)\n",
    "history = deque([], 5)\n",
    "\n",
    "\n",
    "def guess(k):\n",
    "    if k == N:\n",
    "        print('right')\n",
    "        return True\n",
    "    if k < N:\n",
    "        print('%s is less-than N' % k)\n",
    "    else:\n",
    "        print('%s is greater-than N' % k)\n",
    "    return False\n",
    "\n",
    "\n",
    "while True:\n",
    "    line = input(\"please input a number:\")\n",
    "    if line.isdigit():\n",
    "        k = int(line)\n",
    "        history.append(k)\n",
    "        if guess(k):\n",
    "            break\n",
    "    elif line == 'history' or line == 'h?':\n",
    "        print(list(history))\n",
    "    else:\n",
    "        break\n"
   ]
  },
  {
   "cell_type": "markdown",
   "metadata": {},
   "source": [
    "### 历史记录存储到本地文件中持久化\n"
   ]
  },
  {
   "cell_type": "code",
   "execution_count": 9,
   "metadata": {},
   "outputs": [
    {
     "name": "stdout",
     "output_type": "stream",
     "text": [
      "[1, 2, 3, 4, 5]\n"
     ]
    }
   ],
   "source": [
    "from random import randint\n",
    "from collections import deque\n",
    "import pickle\n",
    "\n",
    "N = randint(0, 100)\n",
    "\n",
    "history = deque(pickle.load(open('history', 'rb')), 5)\n",
    "\n",
    "\n",
    "\n",
    "\n",
    "def guess(k):\n",
    "    if k == N:\n",
    "        print('right')\n",
    "        return True\n",
    "    if k < N:\n",
    "        print('%s is less-than N' % k)\n",
    "    else:\n",
    "        print('%s is greater-than N' % k)\n",
    "    return False\n",
    "\n",
    "\n",
    "while True:\n",
    "    line = input(\"please input a number:\")\n",
    "    pickle.dump(history, open('history', 'wb'))\n",
    "    if line.isdigit():\n",
    "        k = int(line)\n",
    "        history.append(k)\n",
    "        if guess(k):\n",
    "            break\n",
    "    elif line == 'history' or line == 'h?':\n",
    "        print(list(history))\n",
    "    else:\n",
    "        break\n"
   ]
  }
 ],
 "metadata": {
  "interpreter": {
   "hash": "b8462015e17e872b1ed1c5fe434b9376ead747c40192f46f8807d616cee721fd"
  },
  "kernelspec": {
   "display_name": "Python 3.10.4 ('study')",
   "language": "python",
   "name": "python3"
  },
  "language_info": {
   "codemirror_mode": {
    "name": "ipython",
    "version": 3
   },
   "file_extension": ".py",
   "mimetype": "text/x-python",
   "name": "python",
   "nbconvert_exporter": "python",
   "pygments_lexer": "ipython3",
   "version": "3.10.4"
  },
  "orig_nbformat": 4
 },
 "nbformat": 4,
 "nbformat_minor": 2
}
