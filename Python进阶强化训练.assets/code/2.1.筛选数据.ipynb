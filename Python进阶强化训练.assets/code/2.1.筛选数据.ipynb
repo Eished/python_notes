{
 "cells": [
  {
   "cell_type": "code",
   "execution_count": 5,
   "metadata": {},
   "outputs": [
    {
     "name": "stdout",
     "output_type": "stream",
     "text": [
      "[5, 2, 8, 3, 8, -6, -5, 3, 4, -4]\n",
      "[5, 2, 8, 3, 8, 3, 4]\n",
      "[5, 2, 8, 3, 8, 3, 4]\n",
      "0.03529789999993227\n",
      "0.10535100000015518\n"
     ]
    }
   ],
   "source": [
    "from random import randint\n",
    "import timeit\n",
    "\n",
    "data = [randint(-10, 10) for _ in range(10)]\n",
    "print(data)\n",
    "\n",
    "f = filter(lambda x: x >= 0, data)\n",
    "print(list(f))\n",
    "\n",
    "l = [x for x in data if x >= 0]\n",
    "print(l)\n",
    "\n",
    "\n",
    "t_f = timeit.timeit('filter(lambda x: x >= 0, data)',\n",
    "                    globals=globals(), number=100000)\n",
    "print(t_f)\n",
    "\n",
    "t_l = timeit.timeit('[x for x in data if x >= 0]',\n",
    "                    globals=globals(), number=100000)\n",
    "print(t_l)\n"
   ]
  },
  {
   "cell_type": "code",
   "execution_count": null,
   "metadata": {},
   "outputs": [],
   "source": []
  }
 ],
 "metadata": {
  "interpreter": {
   "hash": "b8462015e17e872b1ed1c5fe434b9376ead747c40192f46f8807d616cee721fd"
  },
  "kernelspec": {
   "display_name": "Python 3.10.4 ('study')",
   "language": "python",
   "name": "python3"
  },
  "language_info": {
   "codemirror_mode": {
    "name": "ipython",
    "version": 3
   },
   "file_extension": ".py",
   "mimetype": "text/x-python",
   "name": "python",
   "nbconvert_exporter": "python",
   "pygments_lexer": "ipython3",
   "version": "3.10.4"
  },
  "orig_nbformat": 4
 },
 "nbformat": 4,
 "nbformat_minor": 2
}
