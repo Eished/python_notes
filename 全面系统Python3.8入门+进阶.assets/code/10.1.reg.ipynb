{
 "cells": [
  {
   "cell_type": "markdown",
   "metadata": {},
   "source": [
    "## 正则表达式\n",
    "\n",
    "`re.findall('正则表达式', a)`"
   ]
  },
  {
   "cell_type": "code",
   "execution_count": 1,
   "metadata": {},
   "outputs": [
    {
     "name": "stdout",
     "output_type": "stream",
     "text": [
      "True\n",
      "True\n",
      "['Python']\n"
     ]
    }
   ],
   "source": [
    "import re\n",
    "\n",
    "a = 'C|C++|Java|C#|Python|Javascript'\n",
    "\n",
    "print(a.index('Python') > -1)\n",
    "print('Python' in a)\n",
    "\n",
    "result = re.findall('Python', a)\n",
    "if(result):\n",
    "    print(result)\n",
    "else:\n",
    "    print(None)\n"
   ]
  },
  {
   "cell_type": "code",
   "execution_count": 2,
   "metadata": {},
   "outputs": [
    {
     "name": "stdout",
     "output_type": "stream",
     "text": [
      "['2', '3', '3', '8', '7', '9', '0', '9', '8', '0', '8', '0', '0', '8', '0', '8', '9', '8', '0', '0', '0']\n",
      "['C', '|', 'C', '+', '+', '|', 'J', 'a', 'v', 'a', 'l', 'C', '#', '|', 'P', 'y', 't', 'h', 'o', 'n', '|', 'J', 'a', 'v', 'a', 's', 'c', 'r', 'i', 'p', '-', 't']\n"
     ]
    }
   ],
   "source": [
    "b = 'C2|3C3+87+9|Jav0al9C#|Pyt80hon80|0Ja8v0a8sc980r0i0p-t'\n",
    "\n",
    "result = re.findall('\\d', b)\n",
    "print(result)\n",
    "result = re.findall('\\D', b)\n",
    "print(result)\n"
   ]
  },
  {
   "cell_type": "code",
   "execution_count": 3,
   "metadata": {},
   "outputs": [
    {
     "name": "stdout",
     "output_type": "stream",
     "text": [
      "['acc', 'adc', 'afc']\n",
      "['abc', 'aec', 'ahc']\n",
      "['acc', 'adc']\n"
     ]
    }
   ],
   "source": [
    "# 匹配中间是c|f|d的单词\n",
    "\n",
    "s = 'abc,acc,adc,aec,afc,ahc'\n",
    "result = re.findall('a[cfd]c', s)\n",
    "print(result)\n",
    "\n",
    "result = re.findall('a[^cfd]c', s)\n",
    "print(result)\n",
    "\n",
    "result = re.findall('a[c-d]c', s)\n",
    "print(result)\n"
   ]
  },
  {
   "cell_type": "markdown",
   "metadata": {},
   "source": [
    "默认贪婪匹配，后面加问号（零次或一次），惰性匹配。\n",
    "\n",
    "`?` 匹配0到1次\n",
    "\n",
    "`+` 匹配1到无限次\n",
    "\n",
    "`*` 匹配0到无限次"
   ]
  },
  {
   "cell_type": "code",
   "execution_count": 4,
   "metadata": {},
   "outputs": [
    {
     "name": "stdout",
     "output_type": "stream",
     "text": [
      "['C', 'C', 'Java', 'C', 'Python', 'Javascript']\n",
      "['C', 'C', 'Java', 'C', 'Python', 'Javascript']\n",
      "['C', '', 'C', '', '', '', 'Java', '', 'C', '', '', 'Python', '', 'Javascript', '']\n",
      "['Java', 'Javascript']\n",
      "['C|C++|Java|C#|Python|Javascript']\n"
     ]
    }
   ],
   "source": [
    "a = 'C|C++|Java|C#|Python|Javascript'\n",
    "result = re.findall('\\w{1,}', a)\n",
    "print(result)\n",
    "\n",
    "result = re.findall('\\w+', a)\n",
    "print(result)\n",
    "\n",
    "result = re.findall('(\\w+)?', a)\n",
    "print(result)\n",
    "\n",
    "result = re.findall('[Java]\\w*', a)\n",
    "print(result)\n",
    "\n",
    "result = re.findall('^C.*t$', a)\n",
    "print(result)\n"
   ]
  },
  {
   "cell_type": "code",
   "execution_count": 5,
   "metadata": {},
   "outputs": [
    {
     "name": "stdout",
     "output_type": "stream",
     "text": [
      "['Python', 'Python', 'Python']\n"
     ]
    }
   ],
   "source": [
    "a = 'C|C++|Java|C#|Python|Python|Python|af'\n",
    "\n",
    "result = re.findall('(Python){1,3}', a)\n",
    "print(result)\n"
   ]
  },
  {
   "cell_type": "markdown",
   "metadata": {},
   "source": [
    "### 匹配模式\n",
    "\n",
    "flags : 可选，表示匹配模式，比如忽略大小写，多行模式等，具体参数为：\n",
    "\n",
    "1. re.I 忽略大小写\n",
    "2. re.L 表示特殊字符集 \\w, \\W, \\b, \\B, \\s, \\S 依赖于当前环境\n",
    "3. re.M 多行模式\n",
    "4. re.S 即为 . 并且包括换行符在内的任意字符（. 不包括换行符）\n",
    "5. re.U 表示特殊字符集 \\w, \\W, \\b, \\B, \\d, \\D, \\s, \\S 依赖于 Unicode 字符属性数据库\n",
    "6. re.X 为了增加可读性，忽略空格和 # 后面的注释\n",
    "\n",
    "`re.findall('正则表达式', <字符串>, 匹配模式)`"
   ]
  },
  {
   "cell_type": "code",
   "execution_count": 6,
   "metadata": {},
   "outputs": [
    {
     "name": "stdout",
     "output_type": "stream",
     "text": [
      "['C#\\n']\n",
      "<re.Match object; span=(15, 21), match='Python'>\n",
      "<re.Match object; span=(22, 28), match='Python'>\n",
      "<re.Match object; span=(29, 35), match='Python'>\n",
      "C|C++|Java|C#\n",
      "| Python | Python | Python |a\n",
      "f\n"
     ]
    }
   ],
   "source": [
    "import re\n",
    "a = 'C|C++|Java|C#\\n|Python|Python|Python|a\\nf'\n",
    "\n",
    "result = re.findall('c#.{1}', a, re.I | re.S)\n",
    "print(result)\n",
    "\n",
    "\n",
    "def convert(value):\n",
    "    print(value)\n",
    "    matched = value.group()\n",
    "    return ' '+matched+' '\n",
    "\n",
    "\n",
    "result = re.sub('python', convert, a, 0, re.I)\n",
    "print(result)\n"
   ]
  },
  {
   "cell_type": "markdown",
   "metadata": {},
   "source": [
    "`re.match(pattern, string, flags=0)`\n",
    "\n",
    "`re.search(pattern, string, flags=0)`\n",
    "\n",
    "re.match只匹配字符串的开始，如果字符串开始不符合正则表达式，则匹配失败，函数返回None；而re.search匹配整个字符串，直到找到一个匹配。\n",
    "\n",
    "`re.sub(pattern, repl, string, count=0, flags=0)`\n",
    "参数：\n",
    "\n",
    "- pattern : 正则中的模式字符串。\n",
    "- repl : 替换的字符串，也可为一个函数。\n",
    "- string : 要被查找替换的原始字符串。\n",
    "- count : 模式匹配后替换的最大次数，默认 0 表示替换所有的匹配。\n",
    "\n",
    "compile 函数用于编译正则表达式，生成一个正则表达式（ Pattern ）对象，供 match() 和 search() 这两个函数使用。\n",
    "\n",
    "`re.compile(pattern[, flags])`\n",
    "\n",
    "`findall(string[, pos[, endpos]])`\n",
    "\n",
    "和 findall 类似，在字符串中找到正则表达式所匹配的所有子串，并把它们作为一个迭代器返回。\n",
    "\n",
    "`re.finditer(pattern, string, flags=0)`\n",
    "\n",
    "split 方法按照能够匹配的子串将字符串分割后返回列表，它的使用形式如下：\n",
    "\n",
    "`re.split(pattern, string[, maxsplit=0, flags=0])`\n",
    "\n",
    "#### re.RegexObject\n",
    "`re.compile()` 返回 RegexObject 对象。\n",
    "\n",
    "#### re.MatchObject\n",
    "`group()` 返回被 RE 匹配的字符串。\n",
    "\n",
    "- start() 返回匹配开始的位置\n",
    "- end() 返回匹配结束的位置\n",
    "- span() 返回一个元组包含匹配 (开始,结束) 的位置\n",
    "\n",
    "https://www.runoob.com/python/python-reg-expressions.html\n"
   ]
  },
  {
   "cell_type": "markdown",
   "metadata": {},
   "source": [
    "### group 分组\n"
   ]
  },
  {
   "cell_type": "code",
   "execution_count": 7,
   "metadata": {},
   "outputs": [
    {
     "name": "stdout",
     "output_type": "stream",
     "text": [
      "('python is good', ' is ')\n",
      " is \n",
      "[' is ']\n"
     ]
    }
   ],
   "source": [
    "s = 'python is good'\n",
    "r = re.search('python(.*)good', s)\n",
    "print(r.group(0, 1))\n",
    "print(r.group(1))\n",
    "\n",
    "r = re.findall('python(.*)good', s)\n",
    "print(r)\n"
   ]
  },
  {
   "cell_type": "markdown",
   "metadata": {},
   "source": [
    "### JSON"
   ]
  },
  {
   "cell_type": "code",
   "execution_count": 8,
   "metadata": {},
   "outputs": [
    {
     "name": "stdout",
     "output_type": "stream",
     "text": [
      "<class 'dict'>\n",
      "zhangsan\n",
      "<class 'list'>\n",
      "{'name': 'zhangsan', 'age': 18, 'flag': False, 'happy': None}\n",
      "\"[{\\\"name\\\":\\\"zhangsan\\\",\\\"age\\\":18,\\\"flag\\\":false,\\\"happy\\\":null}]\"\n"
     ]
    }
   ],
   "source": [
    "import json\n",
    "\n",
    "json_str = '{\"name\":\"zhangsan\",\"age\":18}'\n",
    "\n",
    "student = json.loads(json_str)\n",
    "print(type(student))\n",
    "print(student['name'])\n",
    "\n",
    "json_str = '[{\"name\":\"zhangsan\",\"age\":18,\"flag\":false,\"happy\":null}]'\n",
    "\n",
    "student = json.loads(json_str)\n",
    "print(type(student))\n",
    "print(student[0])\n",
    "\n",
    "\n",
    "student = [{\"name\": \"zhangsan\", \"age\": 18, \"flag\": False, \"happy\": None}]\n",
    "student_str = json.dumps(json_str)\n",
    "print(student_str)\n"
   ]
  }
 ],
 "metadata": {
  "interpreter": {
   "hash": "b8462015e17e872b1ed1c5fe434b9376ead747c40192f46f8807d616cee721fd"
  },
  "kernelspec": {
   "display_name": "Python 3.10.4 ('study')",
   "language": "python",
   "name": "python3"
  },
  "language_info": {
   "codemirror_mode": {
    "name": "ipython",
    "version": 3
   },
   "file_extension": ".py",
   "mimetype": "text/x-python",
   "name": "python",
   "nbconvert_exporter": "python",
   "pygments_lexer": "ipython3",
   "version": "3.10.4"
  },
  "orig_nbformat": 4
 },
 "nbformat": 4,
 "nbformat_minor": 2
}
