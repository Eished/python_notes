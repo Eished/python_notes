{
 "cells": [
  {
   "cell_type": "markdown",
   "metadata": {},
   "source": [
    "## 函数\n"
   ]
  },
  {
   "cell_type": "code",
   "execution_count": 6,
   "metadata": {},
   "outputs": [
    {
     "name": "stdout",
     "output_type": "stream",
     "text": [
      "1.236\n"
     ]
    }
   ],
   "source": [
    "a = 1.23567\n",
    "print(round(a, 3))\n"
   ]
  },
  {
   "cell_type": "markdown",
   "metadata": {},
   "source": [
    "1. 参数可选\n",
    "2. return 默认 None\n",
    "3. 先声明，后调用\n"
   ]
  },
  {
   "cell_type": "code",
   "execution_count": 4,
   "metadata": {},
   "outputs": [
    {
     "name": "stdout",
     "output_type": "stream",
     "text": [
      "3\n",
      "None\n",
      "1 2 3 4 5 6\n"
     ]
    }
   ],
   "source": [
    "def add(x, y):\n",
    "    return x+y\n",
    "\n",
    "\n",
    "def myPrint(code):\n",
    "    print(code)\n",
    "\n",
    "\n",
    "print(myPrint(add(1, 2)))\n",
    "print(1, 2, 3, 4, 5, 6)\n"
   ]
  },
  {
   "cell_type": "markdown",
   "metadata": {},
   "source": [
    "### 序列解包\n"
   ]
  },
  {
   "cell_type": "code",
   "execution_count": 11,
   "metadata": {},
   "outputs": [
    {
     "name": "stdout",
     "output_type": "stream",
     "text": [
      "1 2\n",
      "3 4\n"
     ]
    }
   ],
   "source": [
    "def add(x, y):\n",
    "    return x, y\n",
    "\n",
    "\n",
    "[x, y] = add(1, 2)\n",
    "print(x, y)\n",
    "\n",
    "x, y = add(3, 4)\n",
    "print(x, y)\n"
   ]
  },
  {
   "cell_type": "code",
   "execution_count": 15,
   "metadata": {},
   "outputs": [
    {
     "ename": "ValueError",
     "evalue": "too many values to unpack (expected 2)",
     "output_type": "error",
     "traceback": [
      "\u001b[0;31m---------------------------------------------------------------------------\u001b[0m",
      "\u001b[0;31mValueError\u001b[0m                                Traceback (most recent call last)",
      "\u001b[1;32m/home/eis/python-test/python_notes/全面系统Python3.8入门+进阶.assets/code/8.1.函数.ipynb Cell 7'\u001b[0m in \u001b[0;36m<cell line: 3>\u001b[0;34m()\u001b[0m\n\u001b[1;32m      <a href='vscode-notebook-cell://wsl%2Bubuntu-20.04/home/eis/python-test/python_notes/%E5%85%A8%E9%9D%A2%E7%B3%BB%E7%BB%9FPython3.8%E5%85%A5%E9%97%A8%2B%E8%BF%9B%E9%98%B6.assets/code/8.1.%E5%87%BD%E6%95%B0.ipynb#ch0000011vscode-remote?line=0'>1</a>\u001b[0m a, b, c \u001b[39m=\u001b[39m [\u001b[39m1\u001b[39m, \u001b[39m2\u001b[39m, \u001b[39m3\u001b[39m]\n\u001b[1;32m      <a href='vscode-notebook-cell://wsl%2Bubuntu-20.04/home/eis/python-test/python_notes/%E5%85%A8%E9%9D%A2%E7%B3%BB%E7%BB%9FPython3.8%E5%85%A5%E9%97%A8%2B%E8%BF%9B%E9%98%B6.assets/code/8.1.%E5%87%BD%E6%95%B0.ipynb#ch0000011vscode-remote?line=1'>2</a>\u001b[0m a, b, c \u001b[39m=\u001b[39m \u001b[39m1\u001b[39m, \u001b[39m1\u001b[39m, \u001b[39m1\u001b[39m\n\u001b[0;32m----> <a href='vscode-notebook-cell://wsl%2Bubuntu-20.04/home/eis/python-test/python_notes/%E5%85%A8%E9%9D%A2%E7%B3%BB%E7%BB%9FPython3.8%E5%85%A5%E9%97%A8%2B%E8%BF%9B%E9%98%B6.assets/code/8.1.%E5%87%BD%E6%95%B0.ipynb#ch0000011vscode-remote?line=2'>3</a>\u001b[0m a, b \u001b[39m=\u001b[39m [\u001b[39m1\u001b[39m, \u001b[39m2\u001b[39m, \u001b[39m3\u001b[39m]\n",
      "\u001b[0;31mValueError\u001b[0m: too many values to unpack (expected 2)"
     ]
    }
   ],
   "source": [
    "a, b, c = [1, 2, 3]\n",
    "a, b, c = 1, 1, 1\n",
    "a, b = [1, 2, 3]\n"
   ]
  },
  {
   "cell_type": "markdown",
   "metadata": {},
   "source": [
    "### 关键字参数\n"
   ]
  },
  {
   "cell_type": "code",
   "execution_count": 19,
   "metadata": {},
   "outputs": [
    {
     "name": "stdout",
     "output_type": "stream",
     "text": [
      "1 2\n",
      "2 1\n"
     ]
    },
    {
     "data": {
      "text/plain": [
       "(2, 1)"
      ]
     },
     "execution_count": 19,
     "metadata": {},
     "output_type": "execute_result"
    }
   ],
   "source": [
    "def add(x, y):\n",
    "    print(x, y)\n",
    "    return x, y\n",
    "\n",
    "\n",
    "add(1, 2)\n",
    "add(y=1, x=2)\n"
   ]
  },
  {
   "cell_type": "markdown",
   "metadata": {},
   "source": [
    "### 默认参数\n"
   ]
  },
  {
   "cell_type": "code",
   "execution_count": 22,
   "metadata": {},
   "outputs": [
    {
     "name": "stdout",
     "output_type": "stream",
     "text": [
      "默认值\n",
      "男\n",
      "18\n",
      "xx小学\n",
      "-----------------\n",
      "默认值\n",
      "男\n",
      "100\n",
      "xx小学\n"
     ]
    }
   ],
   "source": [
    "def printInfo(name='默认值', gender='男', age=18, college='xx小学'):\n",
    "    print(name)\n",
    "    print(gender)\n",
    "    print(age)\n",
    "    print(college)\n",
    "\n",
    "\n",
    "printInfo()\n",
    "print('-----------------')\n",
    "printInfo(age=100)\n"
   ]
  },
  {
   "cell_type": "markdown",
   "metadata": {},
   "source": [
    "### 可变参数\n"
   ]
  },
  {
   "cell_type": "code",
   "execution_count": 26,
   "metadata": {},
   "outputs": [
    {
     "name": "stdout",
     "output_type": "stream",
     "text": [
      "(1, 2, 3)\n",
      "((4, 5, 6),)\n",
      "(4, 5, 6)\n",
      "(1, 2, 3)\n"
     ]
    }
   ],
   "source": [
    "def demo(*param):\n",
    "    print(param)\n",
    "\n",
    "\n",
    "demo(1, 2, 3)\n",
    "\n",
    "a = (4, 5, 6)\n",
    "demo(a)\n",
    "demo(*a)  # 相当于解包\n",
    "\n",
    "\n",
    "# 手动传元祖也可以\n",
    "\n",
    "def demo2(param):\n",
    "    print(param)\n",
    "\n",
    "\n",
    "demo2((1, 2, 3))\n"
   ]
  },
  {
   "cell_type": "code",
   "execution_count": 48,
   "metadata": {},
   "outputs": [
    {
     "name": "stdout",
     "output_type": "stream",
     "text": [
      "a 1 (2, 3)\n",
      "a (1, 2, 3) 2\n",
      "a (1, 2, 3) b\n"
     ]
    }
   ],
   "source": [
    "def demo(param1, param2=2, *param):\n",
    "    print(param1, param2, param)\n",
    "\n",
    "\n",
    "demo('a', 1, 2, 3)\n",
    "\n",
    "\n",
    "def demo2(param1, *param, param2=2):\n",
    "    print(param1, param, param2)\n",
    "\n",
    "\n",
    "demo2('a', 1, 2, 3)\n",
    "demo2('a', 1, 2, 3, param2='b')\n"
   ]
  },
  {
   "cell_type": "code",
   "execution_count": 50,
   "metadata": {},
   "outputs": [
    {
     "name": "stdout",
     "output_type": "stream",
     "text": [
      "15\n"
     ]
    }
   ],
   "source": [
    "def squsum(*param):\n",
    "    sum = 0\n",
    "    for i in param:\n",
    "        sum += i\n",
    "    return sum\n",
    "\n",
    "\n",
    "print(squsum(1, 2, 3, 4, 5))\n"
   ]
  },
  {
   "cell_type": "markdown",
   "metadata": {},
   "source": [
    "任意个数关键字参数例子：\n",
    "\n",
    "获得城市温度"
   ]
  },
  {
   "cell_type": "code",
   "execution_count": 54,
   "metadata": {},
   "outputs": [
    {
     "name": "stdout",
     "output_type": "stream",
     "text": [
      "bj : 32c\n",
      "sz : 31c\n"
     ]
    }
   ],
   "source": [
    "def cityTemp(**param):\n",
    "    for key, value in param.items():\n",
    "        print(key, ':', value + 'c')\n",
    "\n",
    "\n",
    "a = {'bj': '32', 'sz': '31'}\n",
    "cityTemp(**a)\n"
   ]
  }
 ],
 "metadata": {
  "interpreter": {
   "hash": "e26401cedd69a730cf5eae31a84fe919c0454782c392bb18e49e05d446ce5397"
  },
  "kernelspec": {
   "display_name": "Python 3.8.10 ('venv': venv)",
   "language": "python",
   "name": "python3"
  },
  "language_info": {
   "codemirror_mode": {
    "name": "ipython",
    "version": 3
   },
   "file_extension": ".py",
   "mimetype": "text/x-python",
   "name": "python",
   "nbconvert_exporter": "python",
   "pygments_lexer": "ipython3",
   "version": "3.8.10"
  },
  "orig_nbformat": 4
 },
 "nbformat": 4,
 "nbformat_minor": 2
}
