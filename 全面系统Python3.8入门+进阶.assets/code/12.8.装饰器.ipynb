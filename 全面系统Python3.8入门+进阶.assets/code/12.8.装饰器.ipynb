{
 "cells": [
  {
   "cell_type": "markdown",
   "metadata": {},
   "source": [
    "## 装饰器\n"
   ]
  },
  {
   "cell_type": "code",
   "execution_count": 5,
   "metadata": {},
   "outputs": [
    {
     "name": "stdout",
     "output_type": "stream",
     "text": [
      "1654098719.5316095\n"
     ]
    }
   ],
   "source": [
    "import time\n",
    "\n",
    "\n",
    "def f1():\n",
    "    print(time.time())\n",
    "\n",
    "\n",
    "f1()\n"
   ]
  },
  {
   "cell_type": "markdown",
   "metadata": {},
   "source": [
    "`@` 装饰器，简化函数调用。\n"
   ]
  },
  {
   "cell_type": "code",
   "execution_count": 14,
   "metadata": {},
   "outputs": [
    {
     "name": "stdout",
     "output_type": "stream",
     "text": [
      "1654099229.4770682\n",
      "This is a function f1\n",
      "1654099229.4778123\n",
      "This is a function f2\n",
      "This is a function ff2\n"
     ]
    }
   ],
   "source": [
    "import time\n",
    "\n",
    "\n",
    "def decorator(func):\n",
    "    def wrapper(*args):\n",
    "        print(time.time())\n",
    "        func(*args)\n",
    "    return wrapper\n",
    "\n",
    "\n",
    "@decorator\n",
    "def f1(func_name):\n",
    "    print('This is a function', func_name)\n",
    "\n",
    "\n",
    "@decorator\n",
    "def f2(func_name1, func_name2):\n",
    "    print('This is a function', func_name1)\n",
    "    print('This is a function', func_name2)\n",
    "\n",
    "\n",
    "f1('f1')\n",
    "f2('f2', 'ff2')\n",
    "# AOP 思想\n",
    "\n",
    "# f = decorator(f1)\n",
    "# f()\n"
   ]
  },
  {
   "cell_type": "code",
   "execution_count": 19,
   "metadata": {},
   "outputs": [
    {
     "name": "stdout",
     "output_type": "stream",
     "text": [
      "1654099468.4678614\n",
      "This is a function f1\n",
      "1654099468.469451\n",
      "This is a function f2\n",
      "This is a function ff2\n",
      "1654099468.470418\n",
      "This is a function f3\n",
      "This is a function ff3\n",
      "{'a': 'a', 'b': 'b', 'c': '222'}\n"
     ]
    }
   ],
   "source": [
    "import time\n",
    "\n",
    "\n",
    "def decorator(func):\n",
    "    def wrapper(*args, **kw):\n",
    "        print(time.time())\n",
    "        func(*args, **kw)\n",
    "    return wrapper\n",
    "\n",
    "\n",
    "@decorator\n",
    "def f1(func_name):\n",
    "    print('This is a function', func_name)\n",
    "\n",
    "\n",
    "@decorator\n",
    "def f2(func_name1, func_name2):\n",
    "    print('This is a function', func_name1)\n",
    "    print('This is a function', func_name2)\n",
    "\n",
    "\n",
    "@decorator\n",
    "def f3(func_name1, func_name2, **kw):\n",
    "    print('This is a function', func_name1)\n",
    "    print('This is a function', func_name2)\n",
    "    print(kw)\n",
    "\n",
    "\n",
    "f1('f1')\n",
    "f2('f2', 'ff2')\n",
    "f3('f3', 'ff3', a='a', b='b', c='222')\n"
   ]
  },
  {
   "cell_type": "markdown",
   "metadata": {},
   "source": [
    "无需修改原函数即可修改函数功能"
   ]
  }
 ],
 "metadata": {
  "interpreter": {
   "hash": "b8462015e17e872b1ed1c5fe434b9376ead747c40192f46f8807d616cee721fd"
  },
  "kernelspec": {
   "display_name": "Python 3.10.4 ('study')",
   "language": "python",
   "name": "python3"
  },
  "language_info": {
   "codemirror_mode": {
    "name": "ipython",
    "version": 3
   },
   "file_extension": ".py",
   "mimetype": "text/x-python",
   "name": "python",
   "nbconvert_exporter": "python",
   "pygments_lexer": "ipython3",
   "version": "3.10.4"
  },
  "orig_nbformat": 4
 },
 "nbformat": 4,
 "nbformat_minor": 2
}
