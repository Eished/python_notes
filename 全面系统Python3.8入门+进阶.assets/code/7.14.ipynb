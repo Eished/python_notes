{
 "cells": [
  {
   "cell_type": "markdown",
   "metadata": {},
   "source": [
    "## 绝对导入与相对导入"
   ]
  },
  {
   "cell_type": "code",
   "execution_count": 1,
   "metadata": {},
   "outputs": [
    {
     "name": "stdout",
     "output_type": "stream",
     "text": [
      "t-init.py\n",
      "m1.py\n",
      "t\n",
      "m4\n",
      "t\n",
      "m3\n",
      "t.pa\n",
      "m2\n",
      "t.pa\n"
     ]
    }
   ],
   "source": [
    "import t.m1\n",
    "import t.pa.m2\n"
   ]
  },
  {
   "cell_type": "markdown",
   "metadata": {},
   "source": [
    "相对路径根据 `__name__='__main__'` 命名空间定位，无法导入顶级命名空间外的模块\n",
    "\n",
    "入口文件只能使用绝对路径导入模块\n",
    "`python -m demo.py` 以模块方式导入主文件，就可以在入口文件使用相对路径"
   ]
  }
 ],
 "metadata": {
  "interpreter": {
   "hash": "e26401cedd69a730cf5eae31a84fe919c0454782c392bb18e49e05d446ce5397"
  },
  "kernelspec": {
   "display_name": "Python 3.8.10 ('venv': venv)",
   "language": "python",
   "name": "python3"
  },
  "language_info": {
   "codemirror_mode": {
    "name": "ipython",
    "version": 3
   },
   "file_extension": ".py",
   "mimetype": "text/x-python",
   "name": "python",
   "nbconvert_exporter": "python",
   "pygments_lexer": "ipython3",
   "version": "3.8.10"
  },
  "orig_nbformat": 4
 },
 "nbformat": 4,
 "nbformat_minor": 2
}
