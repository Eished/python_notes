{
 "cells": [
  {
   "cell_type": "markdown",
   "metadata": {},
   "source": [
    "## 闭包\n",
    "\n",
    "函数保存上下文变量的能力"
   ]
  },
  {
   "cell_type": "code",
   "execution_count": 3,
   "metadata": {},
   "outputs": [
    {
     "name": "stdout",
     "output_type": "stream",
     "text": [
      "(<cell at 0x7fedf037ed40: int object at 0x7fedf32243f0>,)\n",
      "25\n",
      "50\n"
     ]
    }
   ],
   "source": [
    "def curve_pre():\n",
    "    a=25\n",
    "    def curve(x):\n",
    "        return a*x\n",
    "    return curve\n",
    "\n",
    "a=10\n",
    "f=curve_pre()\n",
    "print(f.__closure__)\n",
    "print(f.__closure__[0].cell_contents)\n",
    "print(f(2))\n"
   ]
  },
  {
   "cell_type": "markdown",
   "metadata": {},
   "source": [
    "### 非闭包实现"
   ]
  },
  {
   "cell_type": "code",
   "execution_count": 6,
   "metadata": {},
   "outputs": [
    {
     "name": "stdout",
     "output_type": "stream",
     "text": [
      "2\n",
      "5\n",
      "11\n",
      "11\n"
     ]
    }
   ],
   "source": [
    "origin = 0\n",
    "\n",
    "\n",
    "def go(step):\n",
    "    global origin\n",
    "    new_pos = origin+step\n",
    "    origin = new_pos # 重新定义了 origin ，js 没这种问题\n",
    "    return new_pos\n",
    "\n",
    "\n",
    "print(go(2))\n",
    "print(go(3))\n",
    "print(go(6))\n",
    "print(origin)\n"
   ]
  },
  {
   "cell_type": "markdown",
   "metadata": {},
   "source": [
    "### 闭包实现"
   ]
  },
  {
   "cell_type": "code",
   "execution_count": 9,
   "metadata": {},
   "outputs": [
    {
     "name": "stdout",
     "output_type": "stream",
     "text": [
      "2\n",
      "5\n",
      "11\n"
     ]
    }
   ],
   "source": [
    "origin = 0\n",
    "\n",
    "\n",
    "def factory(pos):\n",
    "    def go(step):\n",
    "        nonlocal pos # 非局部变量声明，记录上次状态\n",
    "        new_pos = pos + step\n",
    "        pos = new_pos \n",
    "        return new_pos\n",
    "    return go\n",
    "\n",
    "\n",
    "tourist = factory(origin)\n",
    "print(tourist(2))\n",
    "print(tourist(3))\n",
    "print(tourist(6))\n"
   ]
  },
  {
   "cell_type": "markdown",
   "metadata": {},
   "source": [
    "```javascript\n",
    "const a = name => {\n",
    "  return step => {\n",
    "    const newName = step + name\n",
    "    name += step\n",
    "    return newName\n",
    "  }\n",
    "}\n",
    "const b = a('zhangsan')\n",
    "console.log(b('lisi'))\n",
    "console.log(b('wangwu'))\n",
    "```\n",
    "\n",
    "```\n",
    "> \"lisizhangsan\"\n",
    "> \"wangwuzhangsanlisi\"\n",
    "```"
   ]
  }
 ],
 "metadata": {
  "interpreter": {
   "hash": "b8462015e17e872b1ed1c5fe434b9376ead747c40192f46f8807d616cee721fd"
  },
  "kernelspec": {
   "display_name": "Python 3.10.4 ('study')",
   "language": "python",
   "name": "python3"
  },
  "language_info": {
   "codemirror_mode": {
    "name": "ipython",
    "version": 3
   },
   "file_extension": ".py",
   "mimetype": "text/x-python",
   "name": "python",
   "nbconvert_exporter": "python",
   "pygments_lexer": "ipython3",
   "version": "3.10.4"
  },
  "orig_nbformat": 4
 },
 "nbformat": 4,
 "nbformat_minor": 2
}
