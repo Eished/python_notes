{
 "cells": [
  {
   "cell_type": "markdown",
   "metadata": {},
   "source": [
    "## 变量作用域\n",
    "\n",
    "### 没有块作用域\n",
    "\n",
    "和 JavaScript var 声明变量相同"
   ]
  },
  {
   "cell_type": "code",
   "execution_count": 3,
   "metadata": {},
   "outputs": [
    {
     "name": "stdout",
     "output_type": "stream",
     "text": [
      "12\n",
      "1\n"
     ]
    }
   ],
   "source": [
    "def demo():\n",
    "    c = 3\n",
    "    for i in range(0, 9):\n",
    "        a = 1\n",
    "        c += 1\n",
    "    print(c)\n",
    "    print(a)\n",
    "\n",
    "\n",
    "demo()\n"
   ]
  },
  {
   "cell_type": "markdown",
   "metadata": {},
   "source": [
    "### global 全局变量声明"
   ]
  },
  {
   "cell_type": "code",
   "execution_count": 14,
   "metadata": {},
   "outputs": [
    {
     "name": "stdout",
     "output_type": "stream",
     "text": [
      "3\n",
      "3\n",
      "3\n"
     ]
    }
   ],
   "source": [
    "# c = 1\n",
    "\n",
    "\n",
    "def func1():\n",
    "    # c = 2\n",
    "    global func2\n",
    "\n",
    "    def func2():\n",
    "        global c\n",
    "        c = 3\n",
    "        print(c)\n",
    "    func2()\n",
    "\n",
    "func1()\n",
    "func2()\n",
    "print(c)\n"
   ]
  }
 ],
 "metadata": {
  "interpreter": {
   "hash": "e26401cedd69a730cf5eae31a84fe919c0454782c392bb18e49e05d446ce5397"
  },
  "kernelspec": {
   "display_name": "Python 3.8.10 ('venv': venv)",
   "language": "python",
   "name": "python3"
  },
  "language_info": {
   "codemirror_mode": {
    "name": "ipython",
    "version": 3
   },
   "file_extension": ".py",
   "mimetype": "text/x-python",
   "name": "python",
   "nbconvert_exporter": "python",
   "pygments_lexer": "ipython3",
   "version": "3.8.10"
  },
  "orig_nbformat": 4
 },
 "nbformat": 4,
 "nbformat_minor": 2
}
