{
 "cells": [
  {
   "cell_type": "code",
   "execution_count": 1,
   "metadata": {},
   "outputs": [
    {
     "name": "stdout",
     "output_type": "stream",
     "text": [
      "t-init.py\n",
      "3.8.10 (default, Mar 15 2022, 12:22:08) \n",
      "[GCC 9.4.0]\n"
     ]
    }
   ],
   "source": [
    "import t\n",
    "\n",
    "print(t.sys.version)\n"
   ]
  },
  {
   "cell_type": "code",
   "execution_count": 2,
   "metadata": {},
   "outputs": [
    {
     "name": "stdout",
     "output_type": "stream",
     "text": [
      "3.8.10 (default, Mar 15 2022, 12:22:08) \n",
      "[GCC 9.4.0]\n"
     ]
    }
   ],
   "source": [
    "from t.c9 import *\n",
    "\n",
    "print(sys.version)\n"
   ]
  },
  {
   "cell_type": "code",
   "execution_count": 3,
   "metadata": {},
   "outputs": [
    {
     "name": "stdout",
     "output_type": "stream",
     "text": [
      "['In', 'Out', '_', '_VSCODE_builtins', '_VSCODE_getVariableInfo', '_VSCODE_getVariableProperties', '_VSCODE_getVariableTypes', '_VSCODE_json', '__', '___', '__builtin__', '__builtins__', '__doc__', '__loader__', '__name__', '__package__', '__spec__', '__vsc_ipynb_file__', '_dh', '_i', '_i1', '_i2', '_i3', '_ih', '_ii', '_iii', '_oh', '_rwho_ls', 'a', 'builtins', 'c', 'datetime', 'exit', 'get_ipython', 'io', 'os', 'quit', 'sys', 't']\n"
     ]
    }
   ],
   "source": [
    "a = 2\n",
    "c = 3\n",
    "infos = dir()\n",
    "print(infos)\n"
   ]
  },
  {
   "cell_type": "code",
   "execution_count": 1,
   "metadata": {},
   "outputs": [
    {
     "name": "stdout",
     "output_type": "stream",
     "text": [
      "t-init.py\n",
      "['__builtins__', '__cached__', '__doc__', '__file__', '__loader__', '__name__', '__package__', '__spec__']\n",
      "变量名：\n",
      "name:t.c11\n",
      "packge:t\n",
      "doc:\n",
      "This is a c11 doc\n",
      "\n",
      "file:/home/eis/python-test/python_notes/全面系统Python3.8入门+进阶.assets/code/t/c11.py\n",
      "name:__main__\n",
      "packge:不属于任何包\n",
      "\n",
      "This is a 7.9 doc\n",
      "\n"
     ]
    }
   ],
   "source": [
    "'''\n",
    "This is a 7.9 doc\n",
    "'''\n",
    "from t.c11 import *\n",
    "\n",
    "print('name:'+__name__)\n",
    "print('packge:'+(__package__ or '不属于任何包'))\n",
    "print(__doc__ or '没有文档注释')\n",
    "# print('file:'+(__file__ or 'jupyter 没有路径'))  # jupyter 没有\n"
   ]
  }
 ],
 "metadata": {
  "interpreter": {
   "hash": "e26401cedd69a730cf5eae31a84fe919c0454782c392bb18e49e05d446ce5397"
  },
  "kernelspec": {
   "display_name": "Python 3.8.10 ('venv': venv)",
   "language": "python",
   "name": "python3"
  },
  "language_info": {
   "codemirror_mode": {
    "name": "ipython",
    "version": 3
   },
   "file_extension": ".py",
   "mimetype": "text/x-python",
   "name": "python",
   "nbconvert_exporter": "python",
   "pygments_lexer": "ipython3",
   "version": "3.8.10"
  },
  "orig_nbformat": 4
 },
 "nbformat": 4,
 "nbformat_minor": 2
}
