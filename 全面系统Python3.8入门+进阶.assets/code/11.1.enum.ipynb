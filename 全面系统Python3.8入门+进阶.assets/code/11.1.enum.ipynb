{
 "cells": [
  {
   "cell_type": "markdown",
   "metadata": {},
   "source": [
    "## enum"
   ]
  },
  {
   "cell_type": "code",
   "execution_count": 1,
   "metadata": {},
   "outputs": [
    {
     "name": "stdout",
     "output_type": "stream",
     "text": [
      "VIP.YELLOW\n",
      "2\n",
      "1\n",
      "<class 'str'>\n",
      "<enum 'VIP'>\n",
      "VIP.YELLOW\n",
      "VIP.GREEN\n",
      "VIP.BLACK\n",
      "VIP.RED\n"
     ]
    }
   ],
   "source": [
    "from enum import Enum\n",
    "\n",
    "# 值不同重复，后面相同值自动成为别名\n",
    "# 不能修改\n",
    "# 打印为变量名而不是值\n",
    "\n",
    "\n",
    "class VIP(Enum):\n",
    "    YELLOW = 1\n",
    "    YELLOW_ALIAS = 1  # 别名不会打印和迭代\n",
    "    GREEN = 2\n",
    "    BLACK = 3\n",
    "    RED = 4\n",
    "\n",
    "\n",
    "print(VIP.YELLOW)\n",
    "\n",
    "\n",
    "class Common():\n",
    "    YELLOW = 1\n",
    "    GREEN = 2\n",
    "    BLACK = 3\n",
    "    RED = 4\n",
    "\n",
    "\n",
    "Common.YELLOW = 2\n",
    "print(Common.YELLOW)\n",
    "\n",
    "# VIP.YELLOW = 2\n",
    "print(VIP.YELLOW.value)\n",
    "print(type(VIP.YELLOW.name))\n",
    "\n",
    "print(type(VIP.YELLOW))\n",
    "\n",
    "# 可迭代\n",
    "for x in VIP:\n",
    "    print(x)\n"
   ]
  },
  {
   "cell_type": "code",
   "execution_count": 2,
   "metadata": {},
   "outputs": [
    {
     "name": "stdout",
     "output_type": "stream",
     "text": [
      "YELLOW\n",
      "YELLOW_ALIAS\n",
      "GREEN\n",
      "BLACK\n",
      "RED\n",
      "True\n",
      "False\n",
      "False\n",
      "False\n"
     ]
    }
   ],
   "source": [
    "for x in VIP.__members__:\n",
    "    print(x)\n",
    "\n",
    "print(VIP.GREEN == VIP.GREEN)\n",
    "print(VIP.GREEN == VIP.RED)\n",
    "print(VIP.GREEN is VIP.RED)\n",
    "print(VIP.GREEN == Common.RED)\n"
   ]
  },
  {
   "cell_type": "code",
   "execution_count": 6,
   "metadata": {},
   "outputs": [
    {
     "ename": "ValueError",
     "evalue": "invalid literal for int() with base 10: 'str'",
     "output_type": "error",
     "traceback": [
      "\u001b[0;31m---------------------------------------------------------------------------\u001b[0m",
      "\u001b[0;31mValueError\u001b[0m                                Traceback (most recent call last)",
      "\u001b[1;32m/home/eis/python/python_notes/全面系统Python3.8入门+进阶.assets/code/11.1.enum.ipynb Cell 4'\u001b[0m in \u001b[0;36m<cell line: 8>\u001b[0;34m()\u001b[0m\n\u001b[1;32m      <a href='vscode-notebook-cell://wsl%2Bubuntu-20.04/home/eis/python/python_notes/%E5%85%A8%E9%9D%A2%E7%B3%BB%E7%BB%9FPython3.8%E5%85%A5%E9%97%A8%2B%E8%BF%9B%E9%98%B6.assets/code/11.1.enum.ipynb#ch0000005vscode-remote?line=0'>1</a>\u001b[0m \u001b[39mfrom\u001b[39;00m \u001b[39menum\u001b[39;00m \u001b[39mimport\u001b[39;00m IntEnum, unique\n\u001b[1;32m      <a href='vscode-notebook-cell://wsl%2Bubuntu-20.04/home/eis/python/python_notes/%E5%85%A8%E9%9D%A2%E7%B3%BB%E7%BB%9FPython3.8%E5%85%A5%E9%97%A8%2B%E8%BF%9B%E9%98%B6.assets/code/11.1.enum.ipynb#ch0000005vscode-remote?line=2'>3</a>\u001b[0m \u001b[39m# 值不同重复，后面相同值自动成为别名\u001b[39;00m\n\u001b[1;32m      <a href='vscode-notebook-cell://wsl%2Bubuntu-20.04/home/eis/python/python_notes/%E5%85%A8%E9%9D%A2%E7%B3%BB%E7%BB%9FPython3.8%E5%85%A5%E9%97%A8%2B%E8%BF%9B%E9%98%B6.assets/code/11.1.enum.ipynb#ch0000005vscode-remote?line=3'>4</a>\u001b[0m \u001b[39m# 不能修改\u001b[39;00m\n\u001b[1;32m      <a href='vscode-notebook-cell://wsl%2Bubuntu-20.04/home/eis/python/python_notes/%E5%85%A8%E9%9D%A2%E7%B3%BB%E7%BB%9FPython3.8%E5%85%A5%E9%97%A8%2B%E8%BF%9B%E9%98%B6.assets/code/11.1.enum.ipynb#ch0000005vscode-remote?line=4'>5</a>\u001b[0m \u001b[39m# 打印为变量名而不是值\u001b[39;00m\n\u001b[1;32m      <a href='vscode-notebook-cell://wsl%2Bubuntu-20.04/home/eis/python/python_notes/%E5%85%A8%E9%9D%A2%E7%B3%BB%E7%BB%9FPython3.8%E5%85%A5%E9%97%A8%2B%E8%BF%9B%E9%98%B6.assets/code/11.1.enum.ipynb#ch0000005vscode-remote?line=7'>8</a>\u001b[0m \u001b[39m@unique\u001b[39m\n\u001b[0;32m----> <a href='vscode-notebook-cell://wsl%2Bubuntu-20.04/home/eis/python/python_notes/%E5%85%A8%E9%9D%A2%E7%B3%BB%E7%BB%9FPython3.8%E5%85%A5%E9%97%A8%2B%E8%BF%9B%E9%98%B6.assets/code/11.1.enum.ipynb#ch0000005vscode-remote?line=8'>9</a>\u001b[0m \u001b[39mclass\u001b[39;00m \u001b[39mVIP\u001b[39;00m(IntEnum):\n\u001b[1;32m     <a href='vscode-notebook-cell://wsl%2Bubuntu-20.04/home/eis/python/python_notes/%E5%85%A8%E9%9D%A2%E7%B3%BB%E7%BB%9FPython3.8%E5%85%A5%E9%97%A8%2B%E8%BF%9B%E9%98%B6.assets/code/11.1.enum.ipynb#ch0000005vscode-remote?line=9'>10</a>\u001b[0m     YELLOW \u001b[39m=\u001b[39m \u001b[39m1\u001b[39m\n\u001b[1;32m     <a href='vscode-notebook-cell://wsl%2Bubuntu-20.04/home/eis/python/python_notes/%E5%85%A8%E9%9D%A2%E7%B3%BB%E7%BB%9FPython3.8%E5%85%A5%E9%97%A8%2B%E8%BF%9B%E9%98%B6.assets/code/11.1.enum.ipynb#ch0000005vscode-remote?line=10'>11</a>\u001b[0m     GREEN \u001b[39m=\u001b[39m \u001b[39m2\u001b[39m\n",
      "File \u001b[0;32m~/miniconda3/envs/study/lib/python3.10/enum.py:289\u001b[0m, in \u001b[0;36mEnumMeta.__new__\u001b[0;34m(metacls, cls, bases, classdict, **kwds)\u001b[0m\n\u001b[1;32m    <a href='file:///home/eis/miniconda3/envs/study/lib/python3.10/enum.py?line=286'>287</a>\u001b[0m         enum_member\u001b[39m.\u001b[39m_value_ \u001b[39m=\u001b[39m value\n\u001b[1;32m    <a href='file:///home/eis/miniconda3/envs/study/lib/python3.10/enum.py?line=287'>288</a>\u001b[0m \u001b[39melse\u001b[39;00m:\n\u001b[0;32m--> <a href='file:///home/eis/miniconda3/envs/study/lib/python3.10/enum.py?line=288'>289</a>\u001b[0m     enum_member \u001b[39m=\u001b[39m \u001b[39m__new__\u001b[39;49m(enum_class, \u001b[39m*\u001b[39;49margs)\n\u001b[1;32m    <a href='file:///home/eis/miniconda3/envs/study/lib/python3.10/enum.py?line=289'>290</a>\u001b[0m     \u001b[39mif\u001b[39;00m \u001b[39mnot\u001b[39;00m \u001b[39mhasattr\u001b[39m(enum_member, \u001b[39m'\u001b[39m\u001b[39m_value_\u001b[39m\u001b[39m'\u001b[39m):\n\u001b[1;32m    <a href='file:///home/eis/miniconda3/envs/study/lib/python3.10/enum.py?line=290'>291</a>\u001b[0m         \u001b[39mif\u001b[39;00m member_type \u001b[39mis\u001b[39;00m \u001b[39mobject\u001b[39m:\n",
      "\u001b[0;31mValueError\u001b[0m: invalid literal for int() with base 10: 'str'"
     ]
    }
   ],
   "source": [
    "from enum import IntEnum, unique\n",
    "\n",
    "# 值不同重复，后面相同值自动成为别名\n",
    "# 不能修改\n",
    "# 打印为变量名而不是值\n",
    "\n",
    "\n",
    "@unique # 唯一值 装饰器\n",
    "class VIP(IntEnum):\n",
    "    YELLOW = 1\n",
    "    GREEN = 2\n",
    "    BLACK = '3' # 可以通过\n",
    "    RED = 'str' # 报错\n"
   ]
  }
 ],
 "metadata": {
  "interpreter": {
   "hash": "b8462015e17e872b1ed1c5fe434b9376ead747c40192f46f8807d616cee721fd"
  },
  "kernelspec": {
   "display_name": "Python 3.10.4 ('study')",
   "language": "python",
   "name": "python3"
  },
  "language_info": {
   "codemirror_mode": {
    "name": "ipython",
    "version": 3
   },
   "file_extension": ".py",
   "mimetype": "text/x-python",
   "name": "python",
   "nbconvert_exporter": "python",
   "pygments_lexer": "ipython3",
   "version": "3.10.4"
  },
  "orig_nbformat": 4
 },
 "nbformat": 4,
 "nbformat_minor": 2
}
