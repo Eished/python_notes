{
 "cells": [
  {
   "cell_type": "markdown",
   "metadata": {},
   "source": [
    "## 技巧总结\n",
    "\n",
    "1. 字典映射代替 switch case\n",
    "2. 列表推导式\n"
   ]
  },
  {
   "cell_type": "code",
   "execution_count": 16,
   "metadata": {},
   "outputs": [
    {
     "name": "stdout",
     "output_type": "stream",
     "text": [
      "[3, 6, 9, 12, 15, 18, 21]\n",
      "[15, 18, 21]\n",
      "{3, 6, 9, 12, 15, 18, 21}\n",
      "{1: 'a', 2: 'b', 3: 'c', 4: 'd', 5: 'e', 6: 'f', 7: 'g'}\n"
     ]
    }
   ],
   "source": [
    "# 列表推导式\n",
    "a = [1, 2, 3, 4, 5, 6, 7]\n",
    "b = [i*3 for i in a]\n",
    "print(b)\n",
    "\n",
    "b = [i*3 for i in a if i >= 5]\n",
    "print(b)\n",
    "\n",
    "# 字典使用列表推导式\n",
    "a = {'a': 1, 'b': 2, 'c': 3, 'd': 4, 'e': 5, 'f': 6, 'g': 7}\n",
    "b = {value*3 for key, value in a.items()}\n",
    "print(b)\n",
    "\n",
    "# 颠倒键值\n",
    "a = {'a': 1, 'b': 2, 'c': 3, 'd': 4, 'e': 5, 'f': 6, 'g': 7}\n",
    "b = {value:key for key, value in a.items()}\n",
    "print(b)\n"
   ]
  },
  {
   "cell_type": "markdown",
   "metadata": {},
   "source": [
    "## iterator generator\n"
   ]
  },
  {
   "cell_type": "code",
   "execution_count": null,
   "metadata": {},
   "outputs": [],
   "source": []
  },
  {
   "cell_type": "markdown",
   "metadata": {},
   "source": [
    "## None"
   ]
  },
  {
   "cell_type": "code",
   "execution_count": 7,
   "metadata": {},
   "outputs": [
    {
     "name": "stdout",
     "output_type": "stream",
     "text": [
      "S\n",
      "F\n"
     ]
    }
   ],
   "source": [
    "def func():\n",
    "    return None\n",
    "\n",
    "\n",
    "a = func()\n",
    "a = []\n",
    "if not a:\n",
    "    print('S')\n",
    "else:\n",
    "    print('F')\n",
    "\n",
    "# 不要使用这个方法作为条件即可\n",
    "if a is None:\n",
    "    print('S')\n",
    "else:\n",
    "    print('F')\n",
    "\n",
    "a = None\n",
    "a = ''\n",
    "a = []\n",
    "a = False\n",
    "# None 是不存在，False 是否定"
   ]
  },
  {
   "cell_type": "markdown",
   "metadata": {},
   "source": [
    "## 对象不一定是True"
   ]
  },
  {
   "cell_type": "markdown",
   "metadata": {},
   "source": [
    "## 内置方法 __len__ 和 __bool__"
   ]
  },
  {
   "cell_type": "markdown",
   "metadata": {},
   "source": [
    "## 装饰器的副作用"
   ]
  },
  {
   "cell_type": "markdown",
   "metadata": {},
   "source": [
    "## 海象运算符"
   ]
  },
  {
   "cell_type": "markdown",
   "metadata": {},
   "source": [
    "## 关键字做字符串拼接"
   ]
  },
  {
   "cell_type": "markdown",
   "metadata": {},
   "source": [
    "## dataclass 类装饰器"
   ]
  }
 ],
 "metadata": {
  "interpreter": {
   "hash": "b8462015e17e872b1ed1c5fe434b9376ead747c40192f46f8807d616cee721fd"
  },
  "kernelspec": {
   "display_name": "Python 3.10.4 ('study')",
   "language": "python",
   "name": "python3"
  },
  "language_info": {
   "codemirror_mode": {
    "name": "ipython",
    "version": 3
   },
   "file_extension": ".py",
   "mimetype": "text/x-python",
   "name": "python",
   "nbconvert_exporter": "python",
   "pygments_lexer": "ipython3",
   "version": "3.10.4"
  },
  "orig_nbformat": 4
 },
 "nbformat": 4,
 "nbformat_minor": 2
}
