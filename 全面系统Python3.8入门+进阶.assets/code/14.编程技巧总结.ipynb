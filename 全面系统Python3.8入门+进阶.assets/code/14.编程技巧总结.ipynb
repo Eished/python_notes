{
 "cells": [
  {
   "cell_type": "markdown",
   "metadata": {},
   "source": [
    "## 技巧总结\n",
    "\n",
    "1. 字典映射代替 switch case\n",
    "2. 列表推导式\n"
   ]
  },
  {
   "cell_type": "code",
   "execution_count": 16,
   "metadata": {},
   "outputs": [
    {
     "name": "stdout",
     "output_type": "stream",
     "text": [
      "[3, 6, 9, 12, 15, 18, 21]\n",
      "[15, 18, 21]\n",
      "{3, 6, 9, 12, 15, 18, 21}\n",
      "{1: 'a', 2: 'b', 3: 'c', 4: 'd', 5: 'e', 6: 'f', 7: 'g'}\n"
     ]
    }
   ],
   "source": [
    "# 列表推导式\n",
    "a = [1, 2, 3, 4, 5, 6, 7]\n",
    "b = [i*3 for i in a]\n",
    "print(b)\n",
    "\n",
    "b = [i*3 for i in a if i >= 5]\n",
    "print(b)\n",
    "\n",
    "# 字典使用列表推导式\n",
    "a = {'a': 1, 'b': 2, 'c': 3, 'd': 4, 'e': 5, 'f': 6, 'g': 7}\n",
    "b = {value*3 for key, value in a.items()}\n",
    "print(b)\n",
    "\n",
    "# 颠倒键值\n",
    "a = {'a': 1, 'b': 2, 'c': 3, 'd': 4, 'e': 5, 'f': 6, 'g': 7}\n",
    "b = {value: key for key, value in a.items()}\n",
    "print(b)\n"
   ]
  },
  {
   "cell_type": "markdown",
   "metadata": {},
   "source": [
    "## iterator generator\n"
   ]
  },
  {
   "cell_type": "code",
   "execution_count": null,
   "metadata": {},
   "outputs": [],
   "source": []
  },
  {
   "cell_type": "markdown",
   "metadata": {},
   "source": [
    "## None\n"
   ]
  },
  {
   "cell_type": "code",
   "execution_count": 1,
   "metadata": {},
   "outputs": [
    {
     "name": "stdout",
     "output_type": "stream",
     "text": [
      "S\n",
      "F\n",
      "False\n",
      "False\n",
      "False\n",
      "False\n"
     ]
    }
   ],
   "source": [
    "def func():\n",
    "    return None\n",
    "\n",
    "\n",
    "a = func()\n",
    "a = []\n",
    "if not a:\n",
    "    print('S')\n",
    "else:\n",
    "    print('F')\n",
    "\n",
    "# 不要使用这个方法作为条件即可\n",
    "if a is None:\n",
    "    print('S')\n",
    "else:\n",
    "    print('F')\n",
    "\n",
    "a = None\n",
    "a = ''\n",
    "a = []\n",
    "a = False\n",
    "# None 是不存在，False 是否定\n",
    "\n",
    "print(bool(None))\n",
    "print(bool([]))\n",
    "print(bool({}))\n",
    "print(bool(()))\n"
   ]
  },
  {
   "cell_type": "markdown",
   "metadata": {},
   "source": [
    "## 对象不一定是 True\n"
   ]
  },
  {
   "cell_type": "code",
   "execution_count": 8,
   "metadata": {},
   "outputs": [
    {
     "name": "stdout",
     "output_type": "stream",
     "text": [
      "True\n",
      "True\n"
     ]
    }
   ],
   "source": [
    "class Test():\n",
    "    pass\n",
    "\n",
    "\n",
    "print(bool(Test))\n",
    "test = Test()\n",
    "print(bool(test))\n"
   ]
  },
  {
   "cell_type": "code",
   "execution_count": 7,
   "metadata": {},
   "outputs": [
    {
     "name": "stdout",
     "output_type": "stream",
     "text": [
      "True\n",
      "False\n"
     ]
    }
   ],
   "source": [
    "class Test2():\n",
    "    def __len__(self):\n",
    "        return 0\n",
    "\n",
    "\n",
    "print(bool(Test2))\n",
    "\n",
    "test2 = Test2()\n",
    "print(bool(test2))\n"
   ]
  },
  {
   "cell_type": "code",
   "execution_count": 13,
   "metadata": {},
   "outputs": [
    {
     "name": "stdout",
     "output_type": "stream",
     "text": [
      "True\n",
      "False\n"
     ]
    }
   ],
   "source": [
    "class Test3():\n",
    "    def __bool__(self):\n",
    "        return False\n",
    "\n",
    "\n",
    "print(bool(Test3))\n",
    "\n",
    "test3 = Test3()\n",
    "print(bool(test3))\n"
   ]
  },
  {
   "cell_type": "code",
   "execution_count": 14,
   "metadata": {},
   "outputs": [
    {
     "name": "stdout",
     "output_type": "stream",
     "text": [
      "True\n",
      "True\n"
     ]
    }
   ],
   "source": [
    "class Test2():\n",
    "    def __len__(self):\n",
    "        return 8\n",
    "\n",
    "\n",
    "print(bool(Test2))\n",
    "\n",
    "test2 = Test2()\n",
    "print(bool(test2))\n"
   ]
  },
  {
   "cell_type": "markdown",
   "metadata": {},
   "source": [
    "## 内置方法 **len** 和 **bool**\n"
   ]
  },
  {
   "cell_type": "markdown",
   "metadata": {},
   "source": [
    "## 装饰器的副作用\n"
   ]
  },
  {
   "cell_type": "code",
   "execution_count": 24,
   "metadata": {},
   "outputs": [
    {
     "name": "stdout",
     "output_type": "stream",
     "text": [
      "Help on function wrapper in module __main__:\n",
      "\n",
      "wrapper(*args)\n",
      "\n",
      "None\n"
     ]
    }
   ],
   "source": [
    "import time\n",
    "\n",
    "\n",
    "def decorator(func):\n",
    "    def wrapper(*args):\n",
    "        print(time.time())\n",
    "        func(*args)\n",
    "    return wrapper\n",
    "\n",
    "\n",
    "@decorator\n",
    "def f1():\n",
    "    '''\n",
    "        'This is a function docs'\n",
    "    '''\n",
    "    print('This is a function')\n",
    "\n",
    "\n",
    "print(help(f1))\n"
   ]
  },
  {
   "cell_type": "code",
   "execution_count": 23,
   "metadata": {},
   "outputs": [
    {
     "name": "stdout",
     "output_type": "stream",
     "text": [
      "Help on function f1 in module __main__:\n",
      "\n",
      "f1()\n",
      "    'This is a function docs'\n",
      "\n",
      "None\n"
     ]
    }
   ],
   "source": [
    "import time\n",
    "from functools import wraps\n",
    "\n",
    "\n",
    "def decorator(func):\n",
    "    @wraps(func)\n",
    "    def wrapper(*args):\n",
    "        print(time.time())\n",
    "        func(*args)\n",
    "    return wrapper\n",
    "\n",
    "\n",
    "@decorator\n",
    "def f1():\n",
    "    '''\n",
    "        'This is a function docs'\n",
    "    '''\n",
    "    print('This is a function')\n",
    "\n",
    "\n",
    "print(help(f1))\n"
   ]
  },
  {
   "cell_type": "markdown",
   "metadata": {},
   "source": [
    "## 海象运算符\n"
   ]
  },
  {
   "cell_type": "markdown",
   "metadata": {},
   "source": [
    "`:=`\n",
    "\n",
    "walrus operator\n",
    "\n",
    "> Python 3.8\n"
   ]
  },
  {
   "cell_type": "code",
   "execution_count": 26,
   "metadata": {},
   "outputs": [
    {
     "name": "stdout",
     "output_type": "stream",
     "text": [
      "长度大于5真是长度为 6\n",
      "6\n",
      "长度大于5真是长度为 6\n",
      "6\n"
     ]
    }
   ],
   "source": [
    "a = 'Python'\n",
    "b = len(a)\n",
    "if b > 5:\n",
    "    print('长度大于5'+'真实长度为', b)\n",
    "\n",
    "print(b)\n",
    "\n",
    "a = 'Python'\n",
    "if len(a) > 5:\n",
    "    print('长度大于5'+'真实长度为', b)\n",
    "\n",
    "print(b)\n"
   ]
  },
  {
   "cell_type": "code",
   "execution_count": 29,
   "metadata": {},
   "outputs": [
    {
     "name": "stdout",
     "output_type": "stream",
     "text": [
      "长度大于5真是长度为 6\n",
      "6\n"
     ]
    }
   ],
   "source": [
    "a = 'Python'\n",
    "if (b := len(a)) > 5:\n",
    "    print('长度大于5'+'真实长度为', b)\n",
    "\n",
    "print(b)\n"
   ]
  },
  {
   "cell_type": "markdown",
   "metadata": {},
   "source": [
    "## 关键字做字符串拼接\n"
   ]
  },
  {
   "cell_type": "code",
   "execution_count": 32,
   "metadata": {},
   "outputs": [
    {
     "name": "stdout",
     "output_type": "stream",
     "text": [
      "长度大于5, 真实长度为6\n",
      "6\n"
     ]
    }
   ],
   "source": [
    "a = 'Python'\n",
    "if (b := len(a)) > 5:\n",
    "    print(f'长度大于5, 真实长度为{b}')\n",
    "\n",
    "print(b)\n"
   ]
  },
  {
   "cell_type": "markdown",
   "metadata": {},
   "source": [
    "## dataclass 类装饰器\n",
    "\n",
    "> Python3.7\n"
   ]
  },
  {
   "cell_type": "code",
   "execution_count": 42,
   "metadata": {},
   "outputs": [
    {
     "name": "stdout",
     "output_type": "stream",
     "text": [
      "张三 90\n",
      "<__main__.Human object at 0x7ff0ef721ed0>\n"
     ]
    }
   ],
   "source": [
    "from dataclasses import dataclass\n",
    "\n",
    "\n",
    "@dataclass(init=True, repr=False)\n",
    "class Human():\n",
    "    name: str\n",
    "    age: int\n",
    "\n",
    "    def get_name(self):\n",
    "        print(self.name, self.age)\n",
    "\n",
    "\n",
    "human = Human('张三', 90)\n",
    "human.get_name()\n",
    "\n",
    "print(human.__repr__())\n"
   ]
  }
 ],
 "metadata": {
  "interpreter": {
   "hash": "b8462015e17e872b1ed1c5fe434b9376ead747c40192f46f8807d616cee721fd"
  },
  "kernelspec": {
   "display_name": "Python 3.10.4 ('study')",
   "language": "python",
   "name": "python3"
  },
  "language_info": {
   "codemirror_mode": {
    "name": "ipython",
    "version": 3
   },
   "file_extension": ".py",
   "mimetype": "text/x-python",
   "name": "python",
   "nbconvert_exporter": "python",
   "pygments_lexer": "ipython3",
   "version": "3.10.4"
  },
  "orig_nbformat": 4
 },
 "nbformat": 4,
 "nbformat_minor": 2
}
