{
 "cells": [
  {
   "cell_type": "markdown",
   "metadata": {},
   "source": [
    "## 面向\n",
    "\n",
    "类 = 面向对象\n",
    "\n",
    "实例化\n"
   ]
  },
  {
   "cell_type": "code",
   "execution_count": 1,
   "metadata": {},
   "outputs": [
    {
     "name": "stdout",
     "output_type": "stream",
     "text": [
      "name:\n",
      "name:0\n"
     ]
    }
   ],
   "source": [
    "class Student():\n",
    "    name = ''\n",
    "    age = 0\n",
    "\n",
    "    def print_file(self):\n",
    "        print('name:'+self.name)\n",
    "        print('name:'+str(self.age))\n",
    "\n",
    "\n",
    "student = Student()\n",
    "student.print_file()\n"
   ]
  },
  {
   "cell_type": "code",
   "execution_count": 2,
   "metadata": {},
   "outputs": [
    {
     "name": "stdout",
     "output_type": "stream",
     "text": [
      "name:\n",
      "name:0\n"
     ]
    }
   ],
   "source": [
    "from c.c1 import Student\n",
    "student = Student()\n",
    "student.print_file()\n"
   ]
  },
  {
   "cell_type": "markdown",
   "metadata": {},
   "source": [
    "### 关注行为的主体，将主体封装成类\n",
    "\n",
    "### 类变量 与 实例变量\n",
    "\n",
    "### 类方法 与 实例方法\n",
    "\n",
    "### 静态方法\n"
   ]
  },
  {
   "cell_type": "code",
   "execution_count": 3,
   "metadata": {},
   "outputs": [
    {
     "name": "stdout",
     "output_type": "stream",
     "text": [
      "sample name 18 do homework\n",
      "sample name\n",
      "学生总数： 3\n",
      "学生总数： 4\n",
      "学生总数： 5\n",
      "3\n",
      "4\n"
     ]
    }
   ],
   "source": [
    "# 学生类\n",
    "class Student():\n",
    "    name = 'sample name'  # 相当于 js/c++ static 声明，类公用变量\n",
    "    age = 0\n",
    "    sum = 0  # 统计所有student实例数量\n",
    "\n",
    "    def __init__(self, name, age):\n",
    "        # 构造函数\n",
    "        # 初始化对象的属性\n",
    "        # self.name = name # 实例变量未赋值时可以用实例变量的方式访问到类变量\n",
    "        self.age = age\n",
    "        Student.sum += 1  # 等同于 self.__class__.sum\n",
    "        # print('student:', name, \"age:\", age)\n",
    "        # return None\n",
    "\n",
    "    def do_homework(this):  # self 是显式的 this\n",
    "        print(this.name, this.age, 'do homework')\n",
    "\n",
    "    @classmethod  # 类方法与实例方法只有装饰器不同\n",
    "    def plus_sum(cls):\n",
    "        cls.sum += 1\n",
    "\n",
    "    @staticmethod  # 不带 this 的普通方法，不能访问 self\n",
    "    def add(x, y):\n",
    "        print(x+y)\n",
    "\n",
    "# 打印类\n",
    "# class Printer():\n",
    "#     def print(self):\n",
    "#         print(self.text)\n",
    "\n",
    "\n",
    "student = Student('张三', 18)\n",
    "student.do_homework()\n",
    "print(student.name)\n",
    "\n",
    "student2 = Student('李四', 28)\n",
    "\n",
    "student2 = Student('王五', 28)\n",
    "\n",
    "print('学生总数：', Student.sum)\n",
    "\n",
    "Student.plus_sum()\n",
    "\n",
    "print('学生总数：', Student.sum)\n",
    "\n",
    "# 对象也可调用类方法\n",
    "student.plus_sum()\n",
    "print('学生总数：', Student.sum)\n",
    "\n",
    "# 都可以调用静态方法\n",
    "Student.add(1, 2)\n",
    "student.add(2, 2)\n"
   ]
  },
  {
   "cell_type": "markdown",
   "metadata": {},
   "source": [
    "### 成员可见性\n",
    "\n",
    "#### 对于私有函数\n",
    "- 前双下划线为私有\n",
    "- 前后双下划线为内置\n",
    "- 强行访问会报错\n",
    "\n",
    "#### 对于私有变量\n",
    "- 强行访问报错\n",
    "- 赋值：相当于重新赋值一个新属性，可以直接访问。"
   ]
  },
  {
   "cell_type": "code",
   "execution_count": 4,
   "metadata": {},
   "outputs": [
    {
     "name": "stdout",
     "output_type": "stream",
     "text": [
      "张三的分数是: 99\n",
      "不能为负值\n",
      "张三的学习时间是: 5 分钟\n",
      "休息一下\n",
      "{'age': 18, 'name': '张三', 'score': 99, '_Student__minute': 5}\n"
     ]
    },
    {
     "data": {
      "text/plain": [
       "5"
      ]
     },
     "execution_count": 4,
     "metadata": {},
     "output_type": "execute_result"
    }
   ],
   "source": [
    "# 学生类\n",
    "class Student():\n",
    "    name = 'sample name'\n",
    "    age = 0\n",
    "    score = None\n",
    "    __minute = None\n",
    "\n",
    "    def __init__(self, name, age):\n",
    "        self.age = age\n",
    "        self.name = name\n",
    "\n",
    "    def marking(self, score):\n",
    "        if(score < 0):\n",
    "            return print('不能为负值')\n",
    "        self.score = score\n",
    "        print(self.name + '的分数是:', score)\n",
    "\n",
    "    def __study__(self, minute):\n",
    "        if(minute > 5):\n",
    "            return print('休息一下')\n",
    "        self.__minute = minute\n",
    "        print(self.name + '的学习时间是:', self.__minute, \"分钟\")\n",
    "\n",
    "    def __do_homework(this):\n",
    "        print(this.name, this.age, 'do homework')\n",
    "\n",
    "\n",
    "student = Student('张三', 18)\n",
    "student.marking(99)\n",
    "student.marking(-9)\n",
    "\n",
    "student.__study__(5)\n",
    "student.__study__(6)\n",
    "\n",
    "# student.__do_homework()\n",
    "# student.__minute\n",
    "print(student.__dict__)\n",
    "student._Student__minute\n"
   ]
  },
  {
   "cell_type": "markdown",
   "metadata": {},
   "source": [
    "## 继承\n",
    "\n"
   ]
  },
  {
   "cell_type": "code",
   "execution_count": 13,
   "metadata": {},
   "outputs": [],
   "source": [
    "class Human():\n",
    "    sum = 0\n",
    "\n",
    "    def __init__(self, name, age):\n",
    "        self.name = name\n",
    "        self.age = age\n",
    "\n",
    "    def get_name(self):\n",
    "        print(self.name)\n"
   ]
  },
  {
   "cell_type": "markdown",
   "metadata": {},
   "source": [
    "手动强制调用父类构造函数，是普通方法\n",
    "\n",
    "super 方法调用父类方法传递参数"
   ]
  },
  {
   "cell_type": "code",
   "execution_count": 20,
   "metadata": {},
   "outputs": [
    {
     "name": "stdout",
     "output_type": "stream",
     "text": [
      "0\n",
      "9\n",
      "zhangsan\n",
      "0\n",
      "zhangsan\n",
      "homework\n"
     ]
    }
   ],
   "source": [
    "class Student(Human):\n",
    "    def __init__(self, school, name, age):\n",
    "        self.school = school\n",
    "        # Human.__init__(self, name, age)\n",
    "        super(Student, self).__init__(name, age)\n",
    "\n",
    "    def do_homework(self):\n",
    "        super(Student, self).get_name()\n",
    "        print('homework')\n",
    "\n",
    "\n",
    "student = Student('bejing', 'zhangsan', 9)\n",
    "print(student.sum)\n",
    "print(student.age)\n",
    "student.get_name()\n",
    "print(Student.sum)\n",
    "\n",
    "# 通过类调用实例方法\n",
    "Student.do_homework(student)\n"
   ]
  }
 ],
 "metadata": {
  "interpreter": {
   "hash": "b8462015e17e872b1ed1c5fe434b9376ead747c40192f46f8807d616cee721fd"
  },
  "kernelspec": {
   "display_name": "Python 3.10.4 ('study': conda)",
   "language": "python",
   "name": "python3"
  },
  "language_info": {
   "codemirror_mode": {
    "name": "ipython",
    "version": 3
   },
   "file_extension": ".py",
   "mimetype": "text/x-python",
   "name": "python",
   "nbconvert_exporter": "python",
   "pygments_lexer": "ipython3",
   "version": "3.10.4"
  },
  "orig_nbformat": 4
 },
 "nbformat": 4,
 "nbformat_minor": 2
}
