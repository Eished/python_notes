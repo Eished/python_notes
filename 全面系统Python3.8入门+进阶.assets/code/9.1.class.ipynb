{
 "cells": [
  {
   "cell_type": "markdown",
   "metadata": {},
   "source": [
    "## 面向\n",
    "\n",
    "类 = 面向对象\n",
    "\n",
    "实例化\n"
   ]
  },
  {
   "cell_type": "code",
   "execution_count": 3,
   "metadata": {},
   "outputs": [
    {
     "name": "stdout",
     "output_type": "stream",
     "text": [
      "name:\n",
      "name:0\n"
     ]
    }
   ],
   "source": [
    "class Student():\n",
    "    name = ''\n",
    "    age = 0\n",
    "\n",
    "    def print_file(self):\n",
    "        print('name:'+self.name)\n",
    "        print('name:'+str(self.age))\n",
    "\n",
    "\n",
    "student = Student()\n",
    "student.print_file()\n"
   ]
  },
  {
   "cell_type": "code",
   "execution_count": 7,
   "metadata": {},
   "outputs": [
    {
     "name": "stdout",
     "output_type": "stream",
     "text": [
      "name:\n",
      "name:0\n"
     ]
    }
   ],
   "source": [
    "from c.c1 import Student\n",
    "student = Student()\n",
    "student.print_file()\n"
   ]
  },
  {
   "cell_type": "markdown",
   "metadata": {},
   "source": [
    "### 关注行为的主体，将主体封装成类\n",
    "\n",
    "### 类变量 与 实例变量\n",
    "\n",
    "### 类方法 与 实例方法\n",
    "\n",
    "### 静态方法\n"
   ]
  },
  {
   "cell_type": "code",
   "execution_count": 60,
   "metadata": {},
   "outputs": [
    {
     "name": "stdout",
     "output_type": "stream",
     "text": [
      "sample name 18 do homework\n",
      "sample name\n",
      "学生总数： 3\n",
      "学生总数： 4\n",
      "学生总数： 5\n",
      "3\n",
      "4\n"
     ]
    }
   ],
   "source": [
    "# 学生类\n",
    "class Student():\n",
    "    name = 'sample name'  # 相当于 js/c++ static 声明，类公用变量\n",
    "    age = 0\n",
    "    sum = 0  # 统计所有student实例数量\n",
    "\n",
    "    def __init__(self, name, age):\n",
    "        # 构造函数\n",
    "        # 初始化对象的属性\n",
    "        # self.name = name # 实例变量未赋值时可以用实例变量的方式访问到类变量\n",
    "        self.age = age\n",
    "        Student.sum += 1  # 等同于 self.__class__.sum\n",
    "        # print('student:', name, \"age:\", age)\n",
    "        # return None\n",
    "\n",
    "    def do_homework(this):  # self 是显式的 this\n",
    "        print(this.name, this.age, 'do homework')\n",
    "\n",
    "    @classmethod  # 类方法与实例方法只有装饰器不同\n",
    "    def plus_sum(cls):\n",
    "        cls.sum += 1\n",
    "\n",
    "    @staticmethod  # 不带 this 的普通方法，不能访问 self\n",
    "    def add(x, y):\n",
    "        print(x+y)\n",
    "\n",
    "# 打印类\n",
    "# class Printer():\n",
    "#     def print(self):\n",
    "#         print(self.text)\n",
    "\n",
    "\n",
    "student = Student('张三', 18)\n",
    "student.do_homework()\n",
    "print(student.name)\n",
    "\n",
    "student2 = Student('李四', 28)\n",
    "\n",
    "student2 = Student('王五', 28)\n",
    "\n",
    "print('学生总数：', Student.sum)\n",
    "\n",
    "Student.plus_sum()\n",
    "\n",
    "print('学生总数：', Student.sum)\n",
    "\n",
    "# 对象也可调用类方法\n",
    "student.plus_sum()\n",
    "print('学生总数：', Student.sum)\n",
    "\n",
    "# 都可以调用静态方法\n",
    "Student.add(1, 2)\n",
    "student.add(2, 2)\n"
   ]
  },
  {
   "cell_type": "markdown",
   "metadata": {},
   "source": [
    "### 成员可见性"
   ]
  }
 ],
 "metadata": {
  "interpreter": {
   "hash": "e26401cedd69a730cf5eae31a84fe919c0454782c392bb18e49e05d446ce5397"
  },
  "kernelspec": {
   "display_name": "Python 3.8.10 ('venv': venv)",
   "language": "python",
   "name": "python3"
  },
  "language_info": {
   "codemirror_mode": {
    "name": "ipython",
    "version": 3
   },
   "file_extension": ".py",
   "mimetype": "text/x-python",
   "name": "python",
   "nbconvert_exporter": "python",
   "pygments_lexer": "ipython3",
   "version": "3.8.10"
  },
  "orig_nbformat": 4
 },
 "nbformat": 4,
 "nbformat_minor": 2
}
