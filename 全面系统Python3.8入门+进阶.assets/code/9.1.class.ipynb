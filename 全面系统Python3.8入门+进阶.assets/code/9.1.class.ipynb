{
 "cells": [
  {
   "cell_type": "markdown",
   "metadata": {},
   "source": [
    "## 面向\n",
    "类 = 面向对象\n",
    "\n",
    "实例化"
   ]
  },
  {
   "cell_type": "code",
   "execution_count": 1,
   "metadata": {},
   "outputs": [],
   "source": [
    "class Student():\n",
    "    name = ''\n",
    "    age = 0\n",
    "\n",
    "    def print_file(self):\n",
    "        print('name:'+self.name)\n",
    "        print('name:'+str(self.age))\n",
    "\n",
    "\n",
    "student = Student()\n",
    "student.print_file()\n"
   ]
  }
 ],
 "metadata": {
  "interpreter": {
   "hash": "e26401cedd69a730cf5eae31a84fe919c0454782c392bb18e49e05d446ce5397"
  },
  "kernelspec": {
   "display_name": "Python 3.8.10 ('venv': venv)",
   "language": "python",
   "name": "python3"
  },
  "language_info": {
   "codemirror_mode": {
    "name": "ipython",
    "version": 3
   },
   "file_extension": ".py",
   "mimetype": "text/x-python",
   "name": "python",
   "nbconvert_exporter": "python",
   "pygments_lexer": "ipython3",
   "version": "3.8.10"
  },
  "orig_nbformat": 4
 },
 "nbformat": 4,
 "nbformat_minor": 2
}
