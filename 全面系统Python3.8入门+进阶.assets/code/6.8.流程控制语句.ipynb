{
 "cells": [
  {
   "cell_type": "markdown",
   "id": "5efac201",
   "metadata": {},
   "source": [
    "### 条件控制语句"
   ]
  },
  {
   "cell_type": "code",
   "execution_count": 1,
   "id": "4c43aab5",
   "metadata": {
    "scrolled": true
   },
   "outputs": [
    {
     "name": "stdout",
     "output_type": "stream",
     "text": [
      "go to left\n",
      "back away\n"
     ]
    }
   ],
   "source": [
    "mood = True\n",
    "if mood :\n",
    "    print('go to left')\n",
    "else :\n",
    "    print('go to right')\n",
    "print('back away')    "
   ]
  },
  {
   "cell_type": "markdown",
   "id": "a8e87307",
   "metadata": {},
   "source": [
    "登录示例：\n",
    "账号密码输入后返回结果"
   ]
  },
  {
   "cell_type": "code",
   "execution_count": 18,
   "id": "92b3b700",
   "metadata": {},
   "outputs": [
    {
     "name": "stdout",
     "output_type": "stream",
     "text": [
      "Please input account\n",
      "Please input password\n",
      "Success\n"
     ]
    }
   ],
   "source": [
    "a = 1\n",
    "b = 2\n",
    "c = 3\n"
   ]
  },
  {
   "cell_type": "code",
   "execution_count": null,
   "id": "111c15ff",
   "metadata": {},
   "outputs": [],
   "source": [
    "if True:\n",
    "  pass\n",
    "else:\n",
    "  pass"
   ]
  }
 ],
 "metadata": {
  "kernelspec": {
   "display_name": "Python 3 (ipykernel)",
   "language": "python",
   "name": "python3"
  },
  "language_info": {
   "codemirror_mode": {
    "name": "ipython",
    "version": 3
   },
   "file_extension": ".py",
   "mimetype": "text/x-python",
   "name": "python",
   "nbconvert_exporter": "python",
   "pygments_lexer": "ipython3",
   "version": "3.8.10"
  }
 },
 "nbformat": 4,
 "nbformat_minor": 5
}
