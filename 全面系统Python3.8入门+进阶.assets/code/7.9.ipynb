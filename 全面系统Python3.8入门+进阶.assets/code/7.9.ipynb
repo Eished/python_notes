{
 "cells": [
  {
   "cell_type": "code",
   "execution_count": 1,
   "metadata": {},
   "outputs": [
    {
     "name": "stdout",
     "output_type": "stream",
     "text": [
      "t-init.py\n",
      "3.8.10 (default, Mar 15 2022, 12:22:08) \n",
      "[GCC 9.4.0]\n"
     ]
    }
   ],
   "source": [
    "import t\n",
    "\n",
    "print(t.sys.version)\n"
   ]
  },
  {
   "cell_type": "code",
   "execution_count": 2,
   "metadata": {},
   "outputs": [
    {
     "name": "stdout",
     "output_type": "stream",
     "text": [
      "3.8.10 (default, Mar 15 2022, 12:22:08) \n",
      "[GCC 9.4.0]\n"
     ]
    }
   ],
   "source": [
    "from t.c9 import *\n",
    "\n",
    "print(sys.version)\n"
   ]
  }
 ],
 "metadata": {
  "interpreter": {
   "hash": "e26401cedd69a730cf5eae31a84fe919c0454782c392bb18e49e05d446ce5397"
  },
  "kernelspec": {
   "display_name": "Python 3.8.10 ('venv': venv)",
   "language": "python",
   "name": "python3"
  },
  "language_info": {
   "codemirror_mode": {
    "name": "ipython",
    "version": 3
   },
   "file_extension": ".py",
   "mimetype": "text/x-python",
   "name": "python",
   "nbconvert_exporter": "python",
   "pygments_lexer": "ipython3",
   "version": "3.8.10"
  },
  "orig_nbformat": 4
 },
 "nbformat": 4,
 "nbformat_minor": 2
}
